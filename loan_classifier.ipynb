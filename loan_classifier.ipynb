{
 "cells": [
  {
   "cell_type": "markdown",
   "metadata": {},
   "source": [
    "# Temat 2\n",
    "### Autor: Tomasz Tokarczyk"
   ]
  },
  {
   "cell_type": "code",
   "execution_count": null,
   "metadata": {},
   "outputs": [],
   "source": [
    "import pandas as pd\n",
    "import numpy as np\n",
    "import codecs\n",
    "import matplotlib.pyplot as plt\n",
    "from sklearn.model_selection import train_test_split\n",
    "import seaborn as sns\n",
    "from sklearn.model_selection import GridSearchCV\n",
    "from sklearn.preprocessing import StandardScaler\n",
    "from sklearn.impute import SimpleImputer\n",
    "from sklearn.pipeline import Pipeline\n",
    "from sklearn.linear_model import LogisticRegression\n",
    "from sklearn.preprocessing import OneHotEncoder\n",
    "from sklearn import metrics\n",
    "from sklearn.preprocessing import LabelEncoder\n",
    "from imblearn.over_sampling import RandomOverSampler"
   ]
  },
  {
   "cell_type": "code",
   "execution_count": 2,
   "metadata": {},
   "outputs": [],
   "source": [
    "with codecs.open(\"data.csv\", \"r\",encoding='utf-8', errors='ignore') as file_data:\n",
    "    data = pd.read_csv(file_data)"
   ]
  },
  {
   "cell_type": "code",
   "execution_count": 3,
   "metadata": {},
   "outputs": [],
   "source": [
    "data = data.drop(columns=[\"ID\", \"LoggedIn\"])"
   ]
  },
  {
   "cell_type": "code",
   "execution_count": 4,
   "metadata": {},
   "outputs": [],
   "source": [
    "pd.set_option('display.max_columns', None)"
   ]
  },
  {
   "cell_type": "markdown",
   "metadata": {},
   "source": [
    "# Opis danych\n",
    "\n",
    "* ID - Unique ID (can not be used for predictions)\n",
    "* Gender- Sex\n",
    "* City - Current City\n",
    "* Monthly_Income - Monthly Income in rupees\n",
    "* DOB - Date of Birth\n",
    "* Lead_Creation_Date - Lead Created on date\n",
    "* Loan_Amount_Applied - Loan Amount Requested (INR)\n",
    "* Loan_Tenure_Applied - Loan Tenure Requested (in years)\n",
    "* Existing_EMI - EMI of Existing Loans (INR)\n",
    "* Employer_Name - Employer Name\n",
    "* Salary_Account- Salary account with Bank\n",
    "* Mobile_Verified - Mobile Verified (Y/N)\n",
    "* Var5- Continuous classified variable\n",
    "* Var1- Categorical variable with multiple levels\n",
    "* Loan_Amount_Submitted- Loan Amount Revised and Selected after seeing Eligibility\n",
    "* Loan_Tenure_Submitted- Loan Tenure Revised and Selected after seeing Eligibility (Years)\n",
    "* Interest_Rate- Interest Rate of Submitted Loan Amount\n",
    "* Processing_Fee- Processing Fee of Submitted Loan Amount (INR)\n",
    "* EMI_Loan_Submitted- EMI of Submitted Loan Amount (INR)\n",
    "* Filled_Form- Filled Application form post quote\n",
    "* Device_Type- Device from which application was made (Browser/ Mobile)\n",
    "* Var2- Categorical Variable with multiple Levels\n",
    "* Source- Categorical Variable with multiple Levels\n",
    "* Var4- Categorical Variable with multiple Levels"
   ]
  },
  {
   "cell_type": "code",
   "execution_count": 5,
   "metadata": {},
   "outputs": [
    {
     "data": {
      "text/html": [
       "<div>\n",
       "<style scoped>\n",
       "    .dataframe tbody tr th:only-of-type {\n",
       "        vertical-align: middle;\n",
       "    }\n",
       "\n",
       "    .dataframe tbody tr th {\n",
       "        vertical-align: top;\n",
       "    }\n",
       "\n",
       "    .dataframe thead th {\n",
       "        text-align: right;\n",
       "    }\n",
       "</style>\n",
       "<table border=\"1\" class=\"dataframe\">\n",
       "  <thead>\n",
       "    <tr style=\"text-align: right;\">\n",
       "      <th></th>\n",
       "      <th>Gender</th>\n",
       "      <th>City</th>\n",
       "      <th>Monthly_Income</th>\n",
       "      <th>DOB</th>\n",
       "      <th>Lead_Creation_Date</th>\n",
       "      <th>Loan_Amount_Applied</th>\n",
       "      <th>Loan_Tenure_Applied</th>\n",
       "      <th>Existing_EMI</th>\n",
       "      <th>Employer_Name</th>\n",
       "      <th>Salary_Account</th>\n",
       "      <th>Mobile_Verified</th>\n",
       "      <th>Var5</th>\n",
       "      <th>Var1</th>\n",
       "      <th>Loan_Amount_Submitted</th>\n",
       "      <th>Loan_Tenure_Submitted</th>\n",
       "      <th>Interest_Rate</th>\n",
       "      <th>Processing_Fee</th>\n",
       "      <th>EMI_Loan_Submitted</th>\n",
       "      <th>Filled_Form</th>\n",
       "      <th>Device_Type</th>\n",
       "      <th>Var2</th>\n",
       "      <th>Source</th>\n",
       "      <th>Var4</th>\n",
       "      <th>Disbursed</th>\n",
       "    </tr>\n",
       "  </thead>\n",
       "  <tbody>\n",
       "    <tr>\n",
       "      <th>0</th>\n",
       "      <td>Female</td>\n",
       "      <td>Delhi</td>\n",
       "      <td>20000</td>\n",
       "      <td>23-May-78</td>\n",
       "      <td>15-May-15</td>\n",
       "      <td>300000.0</td>\n",
       "      <td>5.0</td>\n",
       "      <td>0.0</td>\n",
       "      <td>CYBOSOL</td>\n",
       "      <td>HDFC Bank</td>\n",
       "      <td>N</td>\n",
       "      <td>0</td>\n",
       "      <td>HBXX</td>\n",
       "      <td>NaN</td>\n",
       "      <td>NaN</td>\n",
       "      <td>NaN</td>\n",
       "      <td>NaN</td>\n",
       "      <td>NaN</td>\n",
       "      <td>N</td>\n",
       "      <td>Web-browser</td>\n",
       "      <td>G</td>\n",
       "      <td>S122</td>\n",
       "      <td>1</td>\n",
       "      <td>0</td>\n",
       "    </tr>\n",
       "    <tr>\n",
       "      <th>1</th>\n",
       "      <td>Male</td>\n",
       "      <td>Mumbai</td>\n",
       "      <td>35000</td>\n",
       "      <td>07-Oct-85</td>\n",
       "      <td>04-May-15</td>\n",
       "      <td>200000.0</td>\n",
       "      <td>2.0</td>\n",
       "      <td>0.0</td>\n",
       "      <td>TATA CONSULTANCY SERVICES LTD (TCS)</td>\n",
       "      <td>ICICI Bank</td>\n",
       "      <td>Y</td>\n",
       "      <td>13</td>\n",
       "      <td>HBXA</td>\n",
       "      <td>200000.0</td>\n",
       "      <td>2.0</td>\n",
       "      <td>13.25</td>\n",
       "      <td>NaN</td>\n",
       "      <td>6762.90</td>\n",
       "      <td>N</td>\n",
       "      <td>Web-browser</td>\n",
       "      <td>G</td>\n",
       "      <td>S122</td>\n",
       "      <td>3</td>\n",
       "      <td>0</td>\n",
       "    </tr>\n",
       "    <tr>\n",
       "      <th>2</th>\n",
       "      <td>Male</td>\n",
       "      <td>Panchkula</td>\n",
       "      <td>22500</td>\n",
       "      <td>10-Oct-81</td>\n",
       "      <td>19-May-15</td>\n",
       "      <td>600000.0</td>\n",
       "      <td>4.0</td>\n",
       "      <td>0.0</td>\n",
       "      <td>ALCHEMIST HOSPITALS LTD</td>\n",
       "      <td>State Bank of India</td>\n",
       "      <td>Y</td>\n",
       "      <td>0</td>\n",
       "      <td>HBXX</td>\n",
       "      <td>450000.0</td>\n",
       "      <td>4.0</td>\n",
       "      <td>NaN</td>\n",
       "      <td>NaN</td>\n",
       "      <td>NaN</td>\n",
       "      <td>N</td>\n",
       "      <td>Web-browser</td>\n",
       "      <td>B</td>\n",
       "      <td>S143</td>\n",
       "      <td>1</td>\n",
       "      <td>0</td>\n",
       "    </tr>\n",
       "    <tr>\n",
       "      <th>3</th>\n",
       "      <td>Male</td>\n",
       "      <td>Saharsa</td>\n",
       "      <td>35000</td>\n",
       "      <td>30-Nov-87</td>\n",
       "      <td>09-May-15</td>\n",
       "      <td>1000000.0</td>\n",
       "      <td>5.0</td>\n",
       "      <td>0.0</td>\n",
       "      <td>BIHAR GOVERNMENT</td>\n",
       "      <td>State Bank of India</td>\n",
       "      <td>Y</td>\n",
       "      <td>10</td>\n",
       "      <td>HBXX</td>\n",
       "      <td>920000.0</td>\n",
       "      <td>5.0</td>\n",
       "      <td>NaN</td>\n",
       "      <td>NaN</td>\n",
       "      <td>NaN</td>\n",
       "      <td>N</td>\n",
       "      <td>Web-browser</td>\n",
       "      <td>B</td>\n",
       "      <td>S143</td>\n",
       "      <td>3</td>\n",
       "      <td>0</td>\n",
       "    </tr>\n",
       "    <tr>\n",
       "      <th>4</th>\n",
       "      <td>Male</td>\n",
       "      <td>Bengaluru</td>\n",
       "      <td>100000</td>\n",
       "      <td>17-Feb-84</td>\n",
       "      <td>20-May-15</td>\n",
       "      <td>500000.0</td>\n",
       "      <td>2.0</td>\n",
       "      <td>25000.0</td>\n",
       "      <td>GLOBAL EDGE SOFTWARE</td>\n",
       "      <td>HDFC Bank</td>\n",
       "      <td>Y</td>\n",
       "      <td>17</td>\n",
       "      <td>HBXX</td>\n",
       "      <td>500000.0</td>\n",
       "      <td>2.0</td>\n",
       "      <td>NaN</td>\n",
       "      <td>NaN</td>\n",
       "      <td>NaN</td>\n",
       "      <td>N</td>\n",
       "      <td>Web-browser</td>\n",
       "      <td>B</td>\n",
       "      <td>S134</td>\n",
       "      <td>3</td>\n",
       "      <td>0</td>\n",
       "    </tr>\n",
       "    <tr>\n",
       "      <th>...</th>\n",
       "      <td>...</td>\n",
       "      <td>...</td>\n",
       "      <td>...</td>\n",
       "      <td>...</td>\n",
       "      <td>...</td>\n",
       "      <td>...</td>\n",
       "      <td>...</td>\n",
       "      <td>...</td>\n",
       "      <td>...</td>\n",
       "      <td>...</td>\n",
       "      <td>...</td>\n",
       "      <td>...</td>\n",
       "      <td>...</td>\n",
       "      <td>...</td>\n",
       "      <td>...</td>\n",
       "      <td>...</td>\n",
       "      <td>...</td>\n",
       "      <td>...</td>\n",
       "      <td>...</td>\n",
       "      <td>...</td>\n",
       "      <td>...</td>\n",
       "      <td>...</td>\n",
       "      <td>...</td>\n",
       "      <td>...</td>\n",
       "    </tr>\n",
       "    <tr>\n",
       "      <th>87015</th>\n",
       "      <td>Female</td>\n",
       "      <td>Ajmer</td>\n",
       "      <td>71901</td>\n",
       "      <td>27-Nov-69</td>\n",
       "      <td>31-Jul-15</td>\n",
       "      <td>1000000.0</td>\n",
       "      <td>5.0</td>\n",
       "      <td>14500.0</td>\n",
       "      <td>MAYO COLLEGE</td>\n",
       "      <td>ICICI Bank</td>\n",
       "      <td>N</td>\n",
       "      <td>9</td>\n",
       "      <td>HBXX</td>\n",
       "      <td>NaN</td>\n",
       "      <td>NaN</td>\n",
       "      <td>NaN</td>\n",
       "      <td>NaN</td>\n",
       "      <td>NaN</td>\n",
       "      <td>N</td>\n",
       "      <td>Web-browser</td>\n",
       "      <td>G</td>\n",
       "      <td>S122</td>\n",
       "      <td>3</td>\n",
       "      <td>0</td>\n",
       "    </tr>\n",
       "    <tr>\n",
       "      <th>87016</th>\n",
       "      <td>Female</td>\n",
       "      <td>Kochi</td>\n",
       "      <td>16000</td>\n",
       "      <td>01-Dec-90</td>\n",
       "      <td>31-Jul-15</td>\n",
       "      <td>0.0</td>\n",
       "      <td>0.0</td>\n",
       "      <td>0.0</td>\n",
       "      <td>KERALA COMMUNICATORS CABLE LTD</td>\n",
       "      <td>Federal Bank</td>\n",
       "      <td>Y</td>\n",
       "      <td>1</td>\n",
       "      <td>HBXB</td>\n",
       "      <td>240000.0</td>\n",
       "      <td>4.0</td>\n",
       "      <td>35.50</td>\n",
       "      <td>4800.0</td>\n",
       "      <td>9425.76</td>\n",
       "      <td>Y</td>\n",
       "      <td>Mobile</td>\n",
       "      <td>G</td>\n",
       "      <td>S122</td>\n",
       "      <td>5</td>\n",
       "      <td>0</td>\n",
       "    </tr>\n",
       "    <tr>\n",
       "      <th>87017</th>\n",
       "      <td>Male</td>\n",
       "      <td>Bengaluru</td>\n",
       "      <td>118000</td>\n",
       "      <td>28-Jan-72</td>\n",
       "      <td>31-Jul-15</td>\n",
       "      <td>0.0</td>\n",
       "      <td>0.0</td>\n",
       "      <td>0.0</td>\n",
       "      <td>BANGALORE INSTITUTE OF TECHNOLOGY</td>\n",
       "      <td>Syndicate Bank</td>\n",
       "      <td>Y</td>\n",
       "      <td>8</td>\n",
       "      <td>HBXX</td>\n",
       "      <td>1200000.0</td>\n",
       "      <td>4.0</td>\n",
       "      <td>NaN</td>\n",
       "      <td>NaN</td>\n",
       "      <td>NaN</td>\n",
       "      <td>N</td>\n",
       "      <td>Mobile</td>\n",
       "      <td>G</td>\n",
       "      <td>S122</td>\n",
       "      <td>3</td>\n",
       "      <td>0</td>\n",
       "    </tr>\n",
       "    <tr>\n",
       "      <th>87018</th>\n",
       "      <td>Male</td>\n",
       "      <td>Bengaluru</td>\n",
       "      <td>98930</td>\n",
       "      <td>27-Apr-77</td>\n",
       "      <td>31-Jul-15</td>\n",
       "      <td>800000.0</td>\n",
       "      <td>5.0</td>\n",
       "      <td>13660.0</td>\n",
       "      <td>FIRSTSOURCE SOLUTION LTD</td>\n",
       "      <td>ICICI Bank</td>\n",
       "      <td>Y</td>\n",
       "      <td>18</td>\n",
       "      <td>HBXX</td>\n",
       "      <td>800000.0</td>\n",
       "      <td>5.0</td>\n",
       "      <td>NaN</td>\n",
       "      <td>NaN</td>\n",
       "      <td>NaN</td>\n",
       "      <td>N</td>\n",
       "      <td>Web-browser</td>\n",
       "      <td>G</td>\n",
       "      <td>S122</td>\n",
       "      <td>3</td>\n",
       "      <td>0</td>\n",
       "    </tr>\n",
       "    <tr>\n",
       "      <th>87019</th>\n",
       "      <td>Male</td>\n",
       "      <td>Mumbai</td>\n",
       "      <td>42300</td>\n",
       "      <td>31-Oct-88</td>\n",
       "      <td>31-Jul-15</td>\n",
       "      <td>0.0</td>\n",
       "      <td>0.0</td>\n",
       "      <td>0.0</td>\n",
       "      <td>GOVERNMENT OF INDIA</td>\n",
       "      <td>NaN</td>\n",
       "      <td>Y</td>\n",
       "      <td>12</td>\n",
       "      <td>HBXA</td>\n",
       "      <td>690000.0</td>\n",
       "      <td>4.0</td>\n",
       "      <td>13.99</td>\n",
       "      <td>3450.0</td>\n",
       "      <td>18851.81</td>\n",
       "      <td>N</td>\n",
       "      <td>Web-browser</td>\n",
       "      <td>G</td>\n",
       "      <td>S122</td>\n",
       "      <td>4</td>\n",
       "      <td>0</td>\n",
       "    </tr>\n",
       "  </tbody>\n",
       "</table>\n",
       "<p>87020 rows × 24 columns</p>\n",
       "</div>"
      ],
      "text/plain": [
       "       Gender       City  Monthly_Income        DOB Lead_Creation_Date  \\\n",
       "0      Female      Delhi           20000  23-May-78          15-May-15   \n",
       "1        Male     Mumbai           35000  07-Oct-85          04-May-15   \n",
       "2        Male  Panchkula           22500  10-Oct-81          19-May-15   \n",
       "3        Male    Saharsa           35000  30-Nov-87          09-May-15   \n",
       "4        Male  Bengaluru          100000  17-Feb-84          20-May-15   \n",
       "...       ...        ...             ...        ...                ...   \n",
       "87015  Female      Ajmer           71901  27-Nov-69          31-Jul-15   \n",
       "87016  Female      Kochi           16000  01-Dec-90          31-Jul-15   \n",
       "87017    Male  Bengaluru          118000  28-Jan-72          31-Jul-15   \n",
       "87018    Male  Bengaluru           98930  27-Apr-77          31-Jul-15   \n",
       "87019    Male     Mumbai           42300  31-Oct-88          31-Jul-15   \n",
       "\n",
       "       Loan_Amount_Applied  Loan_Tenure_Applied  Existing_EMI  \\\n",
       "0                 300000.0                  5.0           0.0   \n",
       "1                 200000.0                  2.0           0.0   \n",
       "2                 600000.0                  4.0           0.0   \n",
       "3                1000000.0                  5.0           0.0   \n",
       "4                 500000.0                  2.0       25000.0   \n",
       "...                    ...                  ...           ...   \n",
       "87015            1000000.0                  5.0       14500.0   \n",
       "87016                  0.0                  0.0           0.0   \n",
       "87017                  0.0                  0.0           0.0   \n",
       "87018             800000.0                  5.0       13660.0   \n",
       "87019                  0.0                  0.0           0.0   \n",
       "\n",
       "                             Employer_Name       Salary_Account  \\\n",
       "0                                  CYBOSOL            HDFC Bank   \n",
       "1      TATA CONSULTANCY SERVICES LTD (TCS)           ICICI Bank   \n",
       "2                  ALCHEMIST HOSPITALS LTD  State Bank of India   \n",
       "3                         BIHAR GOVERNMENT  State Bank of India   \n",
       "4                     GLOBAL EDGE SOFTWARE            HDFC Bank   \n",
       "...                                    ...                  ...   \n",
       "87015                         MAYO COLLEGE           ICICI Bank   \n",
       "87016       KERALA COMMUNICATORS CABLE LTD         Federal Bank   \n",
       "87017    BANGALORE INSTITUTE OF TECHNOLOGY       Syndicate Bank   \n",
       "87018             FIRSTSOURCE SOLUTION LTD           ICICI Bank   \n",
       "87019                  GOVERNMENT OF INDIA                  NaN   \n",
       "\n",
       "      Mobile_Verified  Var5  Var1  Loan_Amount_Submitted  \\\n",
       "0                   N     0  HBXX                    NaN   \n",
       "1                   Y    13  HBXA               200000.0   \n",
       "2                   Y     0  HBXX               450000.0   \n",
       "3                   Y    10  HBXX               920000.0   \n",
       "4                   Y    17  HBXX               500000.0   \n",
       "...               ...   ...   ...                    ...   \n",
       "87015               N     9  HBXX                    NaN   \n",
       "87016               Y     1  HBXB               240000.0   \n",
       "87017               Y     8  HBXX              1200000.0   \n",
       "87018               Y    18  HBXX               800000.0   \n",
       "87019               Y    12  HBXA               690000.0   \n",
       "\n",
       "       Loan_Tenure_Submitted  Interest_Rate  Processing_Fee  \\\n",
       "0                        NaN            NaN             NaN   \n",
       "1                        2.0          13.25             NaN   \n",
       "2                        4.0            NaN             NaN   \n",
       "3                        5.0            NaN             NaN   \n",
       "4                        2.0            NaN             NaN   \n",
       "...                      ...            ...             ...   \n",
       "87015                    NaN            NaN             NaN   \n",
       "87016                    4.0          35.50          4800.0   \n",
       "87017                    4.0            NaN             NaN   \n",
       "87018                    5.0            NaN             NaN   \n",
       "87019                    4.0          13.99          3450.0   \n",
       "\n",
       "       EMI_Loan_Submitted Filled_Form  Device_Type Var2 Source  Var4  \\\n",
       "0                     NaN           N  Web-browser    G   S122     1   \n",
       "1                 6762.90           N  Web-browser    G   S122     3   \n",
       "2                     NaN           N  Web-browser    B   S143     1   \n",
       "3                     NaN           N  Web-browser    B   S143     3   \n",
       "4                     NaN           N  Web-browser    B   S134     3   \n",
       "...                   ...         ...          ...  ...    ...   ...   \n",
       "87015                 NaN           N  Web-browser    G   S122     3   \n",
       "87016             9425.76           Y       Mobile    G   S122     5   \n",
       "87017                 NaN           N       Mobile    G   S122     3   \n",
       "87018                 NaN           N  Web-browser    G   S122     3   \n",
       "87019            18851.81           N  Web-browser    G   S122     4   \n",
       "\n",
       "       Disbursed  \n",
       "0              0  \n",
       "1              0  \n",
       "2              0  \n",
       "3              0  \n",
       "4              0  \n",
       "...          ...  \n",
       "87015          0  \n",
       "87016          0  \n",
       "87017          0  \n",
       "87018          0  \n",
       "87019          0  \n",
       "\n",
       "[87020 rows x 24 columns]"
      ]
     },
     "execution_count": 5,
     "metadata": {},
     "output_type": "execute_result"
    }
   ],
   "source": [
    "data"
   ]
  },
  {
   "cell_type": "code",
   "execution_count": 6,
   "metadata": {},
   "outputs": [
    {
     "name": "stdout",
     "output_type": "stream",
     "text": [
      "<class 'pandas.core.frame.DataFrame'>\n",
      "RangeIndex: 87020 entries, 0 to 87019\n",
      "Data columns (total 24 columns):\n",
      " #   Column                 Non-Null Count  Dtype  \n",
      "---  ------                 --------------  -----  \n",
      " 0   Gender                 87020 non-null  object \n",
      " 1   City                   86017 non-null  object \n",
      " 2   Monthly_Income         87020 non-null  int64  \n",
      " 3   DOB                    87020 non-null  object \n",
      " 4   Lead_Creation_Date     87020 non-null  object \n",
      " 5   Loan_Amount_Applied    86949 non-null  float64\n",
      " 6   Loan_Tenure_Applied    86949 non-null  float64\n",
      " 7   Existing_EMI           86949 non-null  float64\n",
      " 8   Employer_Name          86949 non-null  object \n",
      " 9   Salary_Account         75256 non-null  object \n",
      " 10  Mobile_Verified        87020 non-null  object \n",
      " 11  Var5                   87020 non-null  int64  \n",
      " 12  Var1                   87020 non-null  object \n",
      " 13  Loan_Amount_Submitted  52407 non-null  float64\n",
      " 14  Loan_Tenure_Submitted  52407 non-null  float64\n",
      " 15  Interest_Rate          27726 non-null  float64\n",
      " 16  Processing_Fee         27420 non-null  float64\n",
      " 17  EMI_Loan_Submitted     27726 non-null  float64\n",
      " 18  Filled_Form            87020 non-null  object \n",
      " 19  Device_Type            87020 non-null  object \n",
      " 20  Var2                   87020 non-null  object \n",
      " 21  Source                 87020 non-null  object \n",
      " 22  Var4                   87020 non-null  int64  \n",
      " 23  Disbursed              87020 non-null  int64  \n",
      "dtypes: float64(8), int64(4), object(12)\n",
      "memory usage: 15.9+ MB\n"
     ]
    }
   ],
   "source": [
    "data.info()"
   ]
  },
  {
   "cell_type": "code",
   "execution_count": 7,
   "metadata": {},
   "outputs": [
    {
     "data": {
      "text/plain": [
       "Gender                       2\n",
       "City                       697\n",
       "Monthly_Income            5825\n",
       "DOB                      11345\n",
       "Lead_Creation_Date          92\n",
       "Loan_Amount_Applied        277\n",
       "Loan_Tenure_Applied         11\n",
       "Existing_EMI              3753\n",
       "Employer_Name            43566\n",
       "Salary_Account              57\n",
       "Mobile_Verified              2\n",
       "Var5                        19\n",
       "Var1                        19\n",
       "Loan_Amount_Submitted      203\n",
       "Loan_Tenure_Submitted        6\n",
       "Interest_Rate               73\n",
       "Processing_Fee             571\n",
       "EMI_Loan_Submitted        4530\n",
       "Filled_Form                  2\n",
       "Device_Type                  2\n",
       "Var2                         7\n",
       "Source                      30\n",
       "Var4                         8\n",
       "Disbursed                    2\n",
       "dtype: int64"
      ]
     },
     "execution_count": 7,
     "metadata": {},
     "output_type": "execute_result"
    }
   ],
   "source": [
    "data.nunique()"
   ]
  },
  {
   "cell_type": "markdown",
   "metadata": {},
   "source": [
    "# Data urodzenia"
   ]
  },
  {
   "cell_type": "code",
   "execution_count": 8,
   "metadata": {},
   "outputs": [
    {
     "data": {
      "text/plain": [
       "'23-May-78'"
      ]
     },
     "execution_count": 8,
     "metadata": {},
     "output_type": "execute_result"
    }
   ],
   "source": [
    "# W Kolumnie DOB znajduje się data urodzenia w formie str natomiast w kolumnie Lead_Creation_Date znajduje się data kontaktu\n",
    "data[[\"DOB\"]].values[0][0]"
   ]
  },
  {
   "cell_type": "code",
   "execution_count": 9,
   "metadata": {},
   "outputs": [],
   "source": [
    "# Zamienimy obie kolumny na format datetime oraz obliczymy wiek w momencie kontaktu\n",
    "data[\"DOB\"] = pd.to_datetime(data[\"DOB\"])\n",
    "data[\"Lead_Creation_Date\"] = pd.to_datetime(data[\"Lead_Creation_Date\"])\n",
    "data[\"Age\"] = (data[\"Lead_Creation_Date\"] - data[\"DOB\"]).astype('<m8[Y]')"
   ]
  },
  {
   "cell_type": "code",
   "execution_count": 10,
   "metadata": {
    "scrolled": true
   },
   "outputs": [],
   "source": [
    "# W zbiorze znajdują się rekordy z wiekiem ujemnym,\n",
    "# prawdopodobnie źle wypełniono pierwsze dwie cyfry dla roku narodzin (zamiast 1969, 2069)\n",
    "# W takich przypadkach dodamy 100\n",
    "data.loc[data[\"Age\"] <= 0, \"Age\"] = data[\"Age\"] + 100"
   ]
  },
  {
   "cell_type": "code",
   "execution_count": 11,
   "metadata": {},
   "outputs": [],
   "source": [
    "data = data.drop(columns=[\"Lead_Creation_Date\", \"DOB\"])"
   ]
  },
  {
   "cell_type": "code",
   "execution_count": 12,
   "metadata": {},
   "outputs": [
    {
     "name": "stderr",
     "output_type": "stream",
     "text": [
      "/home/det0m/.pyenv/versions/3.7.8/envs/bc_venv/lib/python3.7/site-packages/seaborn/_decorators.py:43: FutureWarning: Pass the following variable as a keyword arg: x. From version 0.12, the only valid positional argument will be `data`, and passing other arguments without an explicit keyword will result in an error or misinterpretation.\n",
      "  FutureWarning\n"
     ]
    },
    {
     "data": {
      "text/plain": [
       "<AxesSubplot:xlabel='Age', ylabel='count'>"
      ]
     },
     "execution_count": 12,
     "metadata": {},
     "output_type": "execute_result"
    },
    {
     "data": {
      "image/png": "[encoded data removed]",
      "text/plain": [
       "<Figure size 1080x720 with 1 Axes>"
      ]
     },
     "metadata": {
      "needs_background": "light"
     },
     "output_type": "display_data"
    }
   ],
   "source": [
    "# Rozkład wieku\n",
    "plt.subplots(figsize=(15,10))\n",
    "sns.countplot('Age',data=data)"
   ]
  },
  {
   "cell_type": "markdown",
   "metadata": {},
   "source": [
    "# Brakujące wartości"
   ]
  },
  {
   "cell_type": "code",
   "execution_count": 13,
   "metadata": {},
   "outputs": [
    {
     "data": {
      "text/plain": [
       "<AxesSubplot:>"
      ]
     },
     "execution_count": 13,
     "metadata": {},
     "output_type": "execute_result"
    },
    {
     "data": {
      "image/png": "[encoded data removed]",
      "text/plain": [
       "<Figure size 1080x720 with 1 Axes>"
      ]
     },
     "metadata": {
      "needs_background": "light"
     },
     "output_type": "display_data"
    }
   ],
   "source": [
    "# Procentowo\n",
    "plt.subplots(figsize=(15,10))\n",
    "(data.isnull().sum() / len(data)).plot(kind='bar')"
   ]
  },
  {
   "cell_type": "code",
   "execution_count": 14,
   "metadata": {},
   "outputs": [],
   "source": [
    "# Dzielimy zbiór na treningowy i testowy\n",
    "X = data.drop(columns=[\"Disbursed\"])\n",
    "y = data[\"Disbursed\"]\n",
    "X_train, X_test, y_train, y_test = train_test_split(X, y, test_size=0.33, random_state=42)"
   ]
  },
  {
   "cell_type": "code",
   "execution_count": 15,
   "metadata": {},
   "outputs": [
    {
     "data": {
      "image/png": "[encoded data removed]",
      "text/plain": [
       "<Figure size 432x288 with 1 Axes>"
      ]
     },
     "metadata": {
      "needs_background": "light"
     },
     "output_type": "display_data"
    }
   ],
   "source": [
    "# Klasy są mocno niezbalansowane\n",
    "plt.hist(y_train, alpha=0.5)\n",
    "plt.hist(y_test, alpha=0.5)\n",
    "plt.show()"
   ]
  },
  {
   "cell_type": "code",
   "execution_count": 16,
   "metadata": {},
   "outputs": [],
   "source": [
    "# Przygotowanie zbioru z oversamplingiem (Dosamplowanie rekordów mniej licznej klasy dla zbalansowania klas)\n",
    "oversample = RandomOverSampler(sampling_strategy='minority')\n",
    "X_over, y_over = oversample.fit_resample(X, y)"
   ]
  },
  {
   "cell_type": "code",
   "execution_count": 17,
   "metadata": {},
   "outputs": [
    {
     "data": {
      "text/plain": [
       "1    85747\n",
       "0    85747\n",
       "Name: Disbursed, dtype: int64"
      ]
     },
     "execution_count": 17,
     "metadata": {},
     "output_type": "execute_result"
    }
   ],
   "source": [
    "y_over.value_counts()"
   ]
  },
  {
   "cell_type": "code",
   "execution_count": 18,
   "metadata": {},
   "outputs": [],
   "source": [
    "# Dzielenie samplowanego zbioru na zbiór treningowy i testowy\n",
    "X_train_over, X_test_over, y_train_over, y_test_over = train_test_split(X_over, y_over, test_size=0.33, random_state=42)"
   ]
  },
  {
   "cell_type": "code",
   "execution_count": 19,
   "metadata": {},
   "outputs": [
    {
     "data": {
      "image/png": "[encoded data removed]",
      "text/plain": [
       "<Figure size 432x288 with 1 Axes>"
      ]
     },
     "metadata": {
      "needs_background": "light"
     },
     "output_type": "display_data"
    }
   ],
   "source": [
    "plt.hist(y_train_over, alpha=0.5)\n",
    "plt.hist(y_test_over, alpha=0.5)\n",
    "plt.show()"
   ]
  },
  {
   "cell_type": "code",
   "execution_count": 20,
   "metadata": {},
   "outputs": [],
   "source": [
    "# Zhashuję wartości w kolumnie Employer_Name (zmienna kategoryczna z dużą ilością warstw).\n",
    "# Jest w niej 43566 unikalnych rekordów w formie stringów.\n",
    "hash_features = data[\"Employer_Name\"].nunique()"
   ]
  },
  {
   "cell_type": "code",
   "execution_count": 21,
   "metadata": {},
   "outputs": [],
   "source": [
    "from sklearn.base import BaseEstimator, TransformerMixin\n",
    "from sklearn.utils import murmurhash3_32\n",
    "\n",
    "class DataFrameSelector(BaseEstimator, TransformerMixin):\n",
    "    def __init__(self, attribute_names):\n",
    "        self.attribute_names = attribute_names\n",
    "    def fit(self, X, y=None):\n",
    "        return self\n",
    "    def transform(self, X):\n",
    "        return X[self.attribute_names]\n",
    "\n",
    "class MostFrequentImputer(BaseEstimator, TransformerMixin):\n",
    "    def fit(self, X, y=None):\n",
    "        self.most_frequent_ = pd.Series([X[c].value_counts().index[0] for c in X],\n",
    "                                        index=X.columns)\n",
    "        return self\n",
    "    def transform(self, X, y=None):\n",
    "        return X.fillna(self.most_frequent_)\n",
    "\n",
    "class HashCategorical(TransformerMixin):\n",
    "    \n",
    "    def __init__(self, k=hash_features):\n",
    "        self.k = k\n",
    "        \n",
    "    def fit(self, X, y=None):\n",
    "        return self\n",
    "    \n",
    "    def transform(self, X, y=None):\n",
    "        #na każdej obserwacji w X zastosować funkcję murmurhash3_32\n",
    "        X_transformed = X.applymap(lambda x: murmurhash3_32(str(x)) % self.k)\n",
    "        return X_transformed "
   ]
  },
  {
   "cell_type": "markdown",
   "metadata": {},
   "source": [
    "# Preprocessing"
   ]
  },
  {
   "cell_type": "code",
   "execution_count": 22,
   "metadata": {},
   "outputs": [],
   "source": [
    "num_pipeline = Pipeline([\n",
    "        (\"select_numeric\", DataFrameSelector([\n",
    "            \"Monthly_Income\",\n",
    "            \"Loan_Tenure_Applied\",\n",
    "            \"Loan_Tenure_Applied\",\n",
    "            \"Existing_EMI\",\n",
    "            \"Var5\",\n",
    "            \"Loan_Amount_Submitted\",\n",
    "            \"Loan_Tenure_Submitted\",\n",
    "            \"Interest_Rate\",\n",
    "            \"Interest_Rate\",\n",
    "            \"Processing_Fee\",\n",
    "            \"EMI_Loan_Submitted\",\n",
    "            \"Var4\"\n",
    "        ])), (\"imputer\", SimpleImputer(strategy=\"median\"))\n",
    "])"
   ]
  },
  {
   "cell_type": "code",
   "execution_count": 23,
   "metadata": {},
   "outputs": [],
   "source": [
    "from sklearn.preprocessing import OneHotEncoder\n",
    "\n",
    "cat_pipeline = Pipeline([\n",
    "        (\"select_cat\", DataFrameSelector([\n",
    "            \"City\",\n",
    "            \"Gender\",\n",
    "            \"Mobile_Verified\",\n",
    "            \"Salary_Account\",\n",
    "            \"Var1\",\n",
    "            \"Filled_Form\",\n",
    "            \"Device_Type\",\n",
    "            \"Var2\",\n",
    "            \"Source\"\n",
    "        ])),\n",
    "        (\"imputer\", MostFrequentImputer()),\n",
    "        (\"feature_hasher\", HashCategorical()),\n",
    "        (\"cat_encoder\", OneHotEncoder(sparse=False, handle_unknown='ignore')),\n",
    "    ])\n",
    "\n",
    "hash_pipeline = Pipeline([\n",
    "        (\"select_cat\", DataFrameSelector([\n",
    "            \"Employer_Name\"\n",
    "        ])),\n",
    "        (\"imputer\", MostFrequentImputer()),\n",
    "        (\"feature_hasher\", HashCategorical())\n",
    "    ])"
   ]
  },
  {
   "cell_type": "code",
   "execution_count": 24,
   "metadata": {},
   "outputs": [],
   "source": [
    "from sklearn.pipeline import FeatureUnion\n",
    "preprocess_pipeline = FeatureUnion(transformer_list=[\n",
    "        (\"num_pipeline\", num_pipeline),\n",
    "        (\"cat_pipeline\", cat_pipeline),\n",
    "        (\"hash_pipeline\", hash_pipeline)\n",
    "    ])"
   ]
  },
  {
   "cell_type": "markdown",
   "metadata": {},
   "source": [
    "# Modelowanie"
   ]
  },
  {
   "cell_type": "code",
   "execution_count": 25,
   "metadata": {},
   "outputs": [
    {
     "name": "stderr",
     "output_type": "stream",
     "text": [
      "/home/det0m/.pyenv/versions/3.7.8/envs/bc_venv/lib/python3.7/site-packages/sklearn/model_selection/_split.py:297: FutureWarning: Setting a random_state has no effect since shuffle is False. This will raise an error in 0.24. You should leave random_state to its default (None), or set shuffle=True.\n",
      "  FutureWarning\n"
     ]
    }
   ],
   "source": [
    "from sklearn.model_selection import StratifiedKFold\n",
    "\n",
    "seed=123\n",
    "kfold = StratifiedKFold(n_splits=5, random_state=seed)"
   ]
  },
  {
   "cell_type": "code",
   "execution_count": 47,
   "metadata": {
    "scrolled": true
   },
   "outputs": [
    {
     "ename": "TypeError",
     "evalue": "__init__() got an unexpected keyword argument 'probability'",
     "output_type": "error",
     "traceback": [
      "\u001b[0;31m---------------------------------------------------------------------------\u001b[0m",
      "\u001b[0;31mTypeError\u001b[0m                                 Traceback (most recent call last)",
      "\u001b[0;32m<ipython-input-47-082a1266fe6a>\u001b[0m in \u001b[0;36m<module>\u001b[0;34m\u001b[0m\n\u001b[1;32m      1\u001b[0m \u001b[0;32mfrom\u001b[0m \u001b[0msklearn\u001b[0m\u001b[0;34m.\u001b[0m\u001b[0msvm\u001b[0m \u001b[0;32mimport\u001b[0m \u001b[0mLinearSVC\u001b[0m\u001b[0;34m\u001b[0m\u001b[0;34m\u001b[0m\u001b[0m\n\u001b[1;32m      2\u001b[0m \u001b[0;34m\u001b[0m\u001b[0m\n\u001b[0;32m----> 3\u001b[0;31m \u001b[0mpipe\u001b[0m \u001b[0;34m=\u001b[0m \u001b[0mPipeline\u001b[0m\u001b[0;34m(\u001b[0m\u001b[0;34m[\u001b[0m\u001b[0;34m(\u001b[0m\u001b[0;34m'preprocessing'\u001b[0m\u001b[0;34m,\u001b[0m \u001b[0mpreprocess_pipeline\u001b[0m\u001b[0;34m)\u001b[0m\u001b[0;34m,\u001b[0m \u001b[0;34m(\u001b[0m\u001b[0;34m'classifier'\u001b[0m\u001b[0;34m,\u001b[0m \u001b[0mLinearSVC\u001b[0m\u001b[0;34m(\u001b[0m\u001b[0mprobability\u001b[0m\u001b[0;34m=\u001b[0m\u001b[0;32mTrue\u001b[0m\u001b[0;34m)\u001b[0m\u001b[0;34m)\u001b[0m\u001b[0;34m]\u001b[0m\u001b[0;34m)\u001b[0m\u001b[0;34m\u001b[0m\u001b[0;34m\u001b[0m\u001b[0m\n\u001b[0m\u001b[1;32m      4\u001b[0m \u001b[0;34m\u001b[0m\u001b[0m\n\u001b[1;32m      5\u001b[0m param_grid = {\n",
      "\u001b[0;32m~/.pyenv/versions/3.7.8/envs/bc_venv/lib/python3.7/site-packages/sklearn/utils/validation.py\u001b[0m in \u001b[0;36minner_f\u001b[0;34m(*args, **kwargs)\u001b[0m\n\u001b[1;32m     70\u001b[0m                           FutureWarning)\n\u001b[1;32m     71\u001b[0m         \u001b[0mkwargs\u001b[0m\u001b[0;34m.\u001b[0m\u001b[0mupdate\u001b[0m\u001b[0;34m(\u001b[0m\u001b[0;34m{\u001b[0m\u001b[0mk\u001b[0m\u001b[0;34m:\u001b[0m \u001b[0marg\u001b[0m \u001b[0;32mfor\u001b[0m \u001b[0mk\u001b[0m\u001b[0;34m,\u001b[0m \u001b[0marg\u001b[0m \u001b[0;32min\u001b[0m \u001b[0mzip\u001b[0m\u001b[0;34m(\u001b[0m\u001b[0msig\u001b[0m\u001b[0;34m.\u001b[0m\u001b[0mparameters\u001b[0m\u001b[0;34m,\u001b[0m \u001b[0margs\u001b[0m\u001b[0;34m)\u001b[0m\u001b[0;34m}\u001b[0m\u001b[0;34m)\u001b[0m\u001b[0;34m\u001b[0m\u001b[0;34m\u001b[0m\u001b[0m\n\u001b[0;32m---> 72\u001b[0;31m         \u001b[0;32mreturn\u001b[0m \u001b[0mf\u001b[0m\u001b[0;34m(\u001b[0m\u001b[0;34m**\u001b[0m\u001b[0mkwargs\u001b[0m\u001b[0;34m)\u001b[0m\u001b[0;34m\u001b[0m\u001b[0;34m\u001b[0m\u001b[0m\n\u001b[0m\u001b[1;32m     73\u001b[0m     \u001b[0;32mreturn\u001b[0m \u001b[0minner_f\u001b[0m\u001b[0;34m\u001b[0m\u001b[0;34m\u001b[0m\u001b[0m\n\u001b[1;32m     74\u001b[0m \u001b[0;34m\u001b[0m\u001b[0m\n",
      "\u001b[0;31mTypeError\u001b[0m: __init__() got an unexpected keyword argument 'probability'"
     ]
    }
   ],
   "source": [
    "from sklearn.svm import LinearSVC\n",
    "\n",
    "pipe = Pipeline([('preprocessing', preprocess_pipeline), ('classifier', LinearSVC())])\n",
    "\n",
    "param_grid = {\n",
    "            'classifier__C': [0.01, 0.1, 1, 10, 100]\n",
    "}\n",
    "\n",
    "grid_1 = GridSearchCV(pipe, param_grid, cv=kfold, return_train_score=True, verbose=10)\n",
    "\n",
    "grid_1.fit(X_train_over, y_train_over)\n",
    "grid_1.best_params_\n",
    "metrics.precision_score(y_test, grid_1.best_estimator_.predict(X_test), average='weighted')"
   ]
  },
  {
   "cell_type": "code",
   "execution_count": null,
   "metadata": {},
   "outputs": [
    {
     "name": "stdout",
     "output_type": "stream",
     "text": [
      "Fitting 5 folds for each of 16 candidates, totalling 80 fits\n",
      "[CV] classifier__C=0.1, classifier__gamma=0.1 ........................\n"
     ]
    },
    {
     "name": "stderr",
     "output_type": "stream",
     "text": [
      "[Parallel(n_jobs=1)]: Using backend SequentialBackend with 1 concurrent workers.\n"
     ]
    }
   ],
   "source": [
    "from sklearn.svm import SVC\n",
    "pipe_2 = Pipeline([('preprocessing', preprocess_pipeline), ('classifier', SVC(class_weight=\"balanced\"))])\n",
    "\n",
    "param_grid_2 = {\n",
    "            'classifier__C': [0.1, 1, 10, 100],\n",
    "            'classifier__gamma': [0.1, 1, 10, 'auto']\n",
    "}\n",
    "\n",
    "grid_2 = GridSearchCV(pipe_2, param_grid_2, cv=kfold, return_train_score=True, verbose=10)\n",
    "\n",
    "grid_2.fit(X_train, y_train)\n",
    "grid_2.best_params_\n",
    "metrics.precision_score(y_test, grid_2.best_estimator_.predict(X_test), average='weighted')"
   ]
  },
  {
   "cell_type": "code",
   "execution_count": 30,
   "metadata": {
    "scrolled": true
   },
   "outputs": [
    {
     "name": "stdout",
     "output_type": "stream",
     "text": [
      "Fitting 5 folds for each of 6 candidates, totalling 30 fits\n",
      "[CV] classifier__C=0.001 .............................................\n"
     ]
    },
    {
     "name": "stderr",
     "output_type": "stream",
     "text": [
      "[Parallel(n_jobs=1)]: Using backend SequentialBackend with 1 concurrent workers.\n",
      "/home/det0m/.pyenv/versions/3.7.8/envs/bc_venv/lib/python3.7/site-packages/sklearn/linear_model/_logistic.py:764: ConvergenceWarning: lbfgs failed to converge (status=1):\n",
      "STOP: TOTAL NO. of ITERATIONS REACHED LIMIT.\n",
      "\n",
      "Increase the number of iterations (max_iter) or scale the data as shown in:\n",
      "    https://scikit-learn.org/stable/modules/preprocessing.html\n",
      "Please also refer to the documentation for alternative solver options:\n",
      "    https://scikit-learn.org/stable/modules/linear_model.html#logistic-regression\n",
      "  extra_warning_msg=_LOGISTIC_SOLVER_CONVERGENCE_MSG)\n"
     ]
    },
    {
     "name": "stdout",
     "output_type": "stream",
     "text": [
      "[CV]  classifier__C=0.001, score=(train=0.724, test=0.721), total=  19.6s\n",
      "[CV] classifier__C=0.001 .............................................\n"
     ]
    },
    {
     "name": "stderr",
     "output_type": "stream",
     "text": [
      "[Parallel(n_jobs=1)]: Done   1 out of   1 | elapsed:   22.0s remaining:    0.0s\n"
     ]
    },
    {
     "name": "stdout",
     "output_type": "stream",
     "text": [
      "[CV]  classifier__C=0.001, score=(train=0.722, test=0.723), total=  19.0s\n",
      "[CV] classifier__C=0.001 .............................................\n"
     ]
    },
    {
     "name": "stderr",
     "output_type": "stream",
     "text": [
      "[Parallel(n_jobs=1)]: Done   2 out of   2 | elapsed:   43.4s remaining:    0.0s\n"
     ]
    },
    {
     "name": "stdout",
     "output_type": "stream",
     "text": [
      "[CV]  classifier__C=0.001, score=(train=0.616, test=0.621), total=  16.5s\n",
      "[CV] classifier__C=0.001 .............................................\n"
     ]
    },
    {
     "name": "stderr",
     "output_type": "stream",
     "text": [
      "[Parallel(n_jobs=1)]: Done   3 out of   3 | elapsed:  1.0min remaining:    0.0s\n"
     ]
    },
    {
     "name": "stdout",
     "output_type": "stream",
     "text": [
      "[CV]  classifier__C=0.001, score=(train=0.616, test=0.616), total=  15.9s\n",
      "[CV] classifier__C=0.001 .............................................\n"
     ]
    },
    {
     "name": "stderr",
     "output_type": "stream",
     "text": [
      "[Parallel(n_jobs=1)]: Done   4 out of   4 | elapsed:  1.3min remaining:    0.0s\n"
     ]
    },
    {
     "name": "stdout",
     "output_type": "stream",
     "text": [
      "[CV]  classifier__C=0.001, score=(train=0.616, test=0.614), total=  16.2s\n",
      "[CV] classifier__C=0.01 ..............................................\n"
     ]
    },
    {
     "name": "stderr",
     "output_type": "stream",
     "text": [
      "[Parallel(n_jobs=1)]: Done   5 out of   5 | elapsed:  1.7min remaining:    0.0s\n",
      "/home/det0m/.pyenv/versions/3.7.8/envs/bc_venv/lib/python3.7/site-packages/sklearn/linear_model/_logistic.py:764: ConvergenceWarning: lbfgs failed to converge (status=1):\n",
      "STOP: TOTAL NO. of ITERATIONS REACHED LIMIT.\n",
      "\n",
      "Increase the number of iterations (max_iter) or scale the data as shown in:\n",
      "    https://scikit-learn.org/stable/modules/preprocessing.html\n",
      "Please also refer to the documentation for alternative solver options:\n",
      "    https://scikit-learn.org/stable/modules/linear_model.html#logistic-regression\n",
      "  extra_warning_msg=_LOGISTIC_SOLVER_CONVERGENCE_MSG)\n"
     ]
    },
    {
     "name": "stdout",
     "output_type": "stream",
     "text": [
      "[CV]  classifier__C=0.01, score=(train=0.723, test=0.718), total=  24.3s\n",
      "[CV] classifier__C=0.01 ..............................................\n"
     ]
    },
    {
     "name": "stderr",
     "output_type": "stream",
     "text": [
      "[Parallel(n_jobs=1)]: Done   6 out of   6 | elapsed:  2.1min remaining:    0.0s\n",
      "/home/det0m/.pyenv/versions/3.7.8/envs/bc_venv/lib/python3.7/site-packages/sklearn/linear_model/_logistic.py:764: ConvergenceWarning: lbfgs failed to converge (status=1):\n",
      "STOP: TOTAL NO. of ITERATIONS REACHED LIMIT.\n",
      "\n",
      "Increase the number of iterations (max_iter) or scale the data as shown in:\n",
      "    https://scikit-learn.org/stable/modules/preprocessing.html\n",
      "Please also refer to the documentation for alternative solver options:\n",
      "    https://scikit-learn.org/stable/modules/linear_model.html#logistic-regression\n",
      "  extra_warning_msg=_LOGISTIC_SOLVER_CONVERGENCE_MSG)\n"
     ]
    },
    {
     "name": "stdout",
     "output_type": "stream",
     "text": [
      "[CV]  classifier__C=0.01, score=(train=0.722, test=0.723), total=  25.5s\n",
      "[CV] classifier__C=0.01 ..............................................\n"
     ]
    },
    {
     "name": "stderr",
     "output_type": "stream",
     "text": [
      "[Parallel(n_jobs=1)]: Done   7 out of   7 | elapsed:  2.6min remaining:    0.0s\n"
     ]
    },
    {
     "name": "stdout",
     "output_type": "stream",
     "text": [
      "[CV]  classifier__C=0.01, score=(train=0.616, test=0.621), total=  16.1s\n",
      "[CV] classifier__C=0.01 ..............................................\n"
     ]
    },
    {
     "name": "stderr",
     "output_type": "stream",
     "text": [
      "[Parallel(n_jobs=1)]: Done   8 out of   8 | elapsed:  2.9min remaining:    0.0s\n"
     ]
    },
    {
     "name": "stdout",
     "output_type": "stream",
     "text": [
      "[CV]  classifier__C=0.01, score=(train=0.616, test=0.616), total=  16.0s\n",
      "[CV] classifier__C=0.01 ..............................................\n"
     ]
    },
    {
     "name": "stderr",
     "output_type": "stream",
     "text": [
      "[Parallel(n_jobs=1)]: Done   9 out of   9 | elapsed:  3.2min remaining:    0.0s\n"
     ]
    },
    {
     "name": "stdout",
     "output_type": "stream",
     "text": [
      "[CV]  classifier__C=0.01, score=(train=0.616, test=0.614), total=  15.2s\n",
      "[CV] classifier__C=0.1 ...............................................\n"
     ]
    },
    {
     "name": "stderr",
     "output_type": "stream",
     "text": [
      "/home/det0m/.pyenv/versions/3.7.8/envs/bc_venv/lib/python3.7/site-packages/sklearn/linear_model/_logistic.py:764: ConvergenceWarning: lbfgs failed to converge (status=1):\n",
      "STOP: TOTAL NO. of ITERATIONS REACHED LIMIT.\n",
      "\n",
      "Increase the number of iterations (max_iter) or scale the data as shown in:\n",
      "    https://scikit-learn.org/stable/modules/preprocessing.html\n",
      "Please also refer to the documentation for alternative solver options:\n",
      "    https://scikit-learn.org/stable/modules/linear_model.html#logistic-regression\n",
      "  extra_warning_msg=_LOGISTIC_SOLVER_CONVERGENCE_MSG)\n"
     ]
    },
    {
     "name": "stdout",
     "output_type": "stream",
     "text": [
      "[CV]  classifier__C=0.1, score=(train=0.727, test=0.724), total=  21.8s\n",
      "[CV] classifier__C=0.1 ...............................................\n"
     ]
    },
    {
     "name": "stderr",
     "output_type": "stream",
     "text": [
      "/home/det0m/.pyenv/versions/3.7.8/envs/bc_venv/lib/python3.7/site-packages/sklearn/linear_model/_logistic.py:764: ConvergenceWarning: lbfgs failed to converge (status=1):\n",
      "STOP: TOTAL NO. of ITERATIONS REACHED LIMIT.\n",
      "\n",
      "Increase the number of iterations (max_iter) or scale the data as shown in:\n",
      "    https://scikit-learn.org/stable/modules/preprocessing.html\n",
      "Please also refer to the documentation for alternative solver options:\n",
      "    https://scikit-learn.org/stable/modules/linear_model.html#logistic-regression\n",
      "  extra_warning_msg=_LOGISTIC_SOLVER_CONVERGENCE_MSG)\n"
     ]
    },
    {
     "name": "stdout",
     "output_type": "stream",
     "text": [
      "[CV]  classifier__C=0.1, score=(train=0.722, test=0.723), total=  23.2s\n",
      "[CV] classifier__C=0.1 ...............................................\n",
      "[CV]  classifier__C=0.1, score=(train=0.616, test=0.621), total=  17.8s\n",
      "[CV] classifier__C=0.1 ...............................................\n",
      "[CV]  classifier__C=0.1, score=(train=0.616, test=0.616), total=  19.8s\n",
      "[CV] classifier__C=0.1 ...............................................\n",
      "[CV]  classifier__C=0.1, score=(train=0.616, test=0.614), total=  18.4s\n",
      "[CV] classifier__C=1 .................................................\n"
     ]
    },
    {
     "name": "stderr",
     "output_type": "stream",
     "text": [
      "/home/det0m/.pyenv/versions/3.7.8/envs/bc_venv/lib/python3.7/site-packages/sklearn/linear_model/_logistic.py:764: ConvergenceWarning: lbfgs failed to converge (status=1):\n",
      "STOP: TOTAL NO. of ITERATIONS REACHED LIMIT.\n",
      "\n",
      "Increase the number of iterations (max_iter) or scale the data as shown in:\n",
      "    https://scikit-learn.org/stable/modules/preprocessing.html\n",
      "Please also refer to the documentation for alternative solver options:\n",
      "    https://scikit-learn.org/stable/modules/linear_model.html#logistic-regression\n",
      "  extra_warning_msg=_LOGISTIC_SOLVER_CONVERGENCE_MSG)\n"
     ]
    },
    {
     "name": "stdout",
     "output_type": "stream",
     "text": [
      "[CV] . classifier__C=1, score=(train=0.633, test=0.629), total=  27.2s\n",
      "[CV] classifier__C=1 .................................................\n"
     ]
    },
    {
     "name": "stderr",
     "output_type": "stream",
     "text": [
      "/home/det0m/.pyenv/versions/3.7.8/envs/bc_venv/lib/python3.7/site-packages/sklearn/linear_model/_logistic.py:764: ConvergenceWarning: lbfgs failed to converge (status=1):\n",
      "STOP: TOTAL NO. of ITERATIONS REACHED LIMIT.\n",
      "\n",
      "Increase the number of iterations (max_iter) or scale the data as shown in:\n",
      "    https://scikit-learn.org/stable/modules/preprocessing.html\n",
      "Please also refer to the documentation for alternative solver options:\n",
      "    https://scikit-learn.org/stable/modules/linear_model.html#logistic-regression\n",
      "  extra_warning_msg=_LOGISTIC_SOLVER_CONVERGENCE_MSG)\n"
     ]
    },
    {
     "name": "stdout",
     "output_type": "stream",
     "text": [
      "[CV] . classifier__C=1, score=(train=0.722, test=0.723), total=  20.7s\n",
      "[CV] classifier__C=1 .................................................\n",
      "[CV] . classifier__C=1, score=(train=0.616, test=0.621), total=  13.5s\n",
      "[CV] classifier__C=1 .................................................\n",
      "[CV] . classifier__C=1, score=(train=0.616, test=0.616), total=  15.5s\n",
      "[CV] classifier__C=1 .................................................\n",
      "[CV] . classifier__C=1, score=(train=0.616, test=0.614), total=  15.8s\n",
      "[CV] classifier__C=10 ................................................\n"
     ]
    },
    {
     "name": "stderr",
     "output_type": "stream",
     "text": [
      "/home/det0m/.pyenv/versions/3.7.8/envs/bc_venv/lib/python3.7/site-packages/sklearn/linear_model/_logistic.py:764: ConvergenceWarning: lbfgs failed to converge (status=1):\n",
      "STOP: TOTAL NO. of ITERATIONS REACHED LIMIT.\n",
      "\n",
      "Increase the number of iterations (max_iter) or scale the data as shown in:\n",
      "    https://scikit-learn.org/stable/modules/preprocessing.html\n",
      "Please also refer to the documentation for alternative solver options:\n",
      "    https://scikit-learn.org/stable/modules/linear_model.html#logistic-regression\n",
      "  extra_warning_msg=_LOGISTIC_SOLVER_CONVERGENCE_MSG)\n"
     ]
    },
    {
     "name": "stdout",
     "output_type": "stream",
     "text": [
      "[CV]  classifier__C=10, score=(train=0.722, test=0.719), total=  22.3s\n",
      "[CV] classifier__C=10 ................................................\n"
     ]
    },
    {
     "name": "stderr",
     "output_type": "stream",
     "text": [
      "/home/det0m/.pyenv/versions/3.7.8/envs/bc_venv/lib/python3.7/site-packages/sklearn/linear_model/_logistic.py:764: ConvergenceWarning: lbfgs failed to converge (status=1):\n",
      "STOP: TOTAL NO. of ITERATIONS REACHED LIMIT.\n",
      "\n",
      "Increase the number of iterations (max_iter) or scale the data as shown in:\n",
      "    https://scikit-learn.org/stable/modules/preprocessing.html\n",
      "Please also refer to the documentation for alternative solver options:\n",
      "    https://scikit-learn.org/stable/modules/linear_model.html#logistic-regression\n",
      "  extra_warning_msg=_LOGISTIC_SOLVER_CONVERGENCE_MSG)\n"
     ]
    },
    {
     "name": "stdout",
     "output_type": "stream",
     "text": [
      "[CV]  classifier__C=10, score=(train=0.721, test=0.722), total=  22.4s\n",
      "[CV] classifier__C=10 ................................................\n",
      "[CV]  classifier__C=10, score=(train=0.616, test=0.621), total=  14.7s\n",
      "[CV] classifier__C=10 ................................................\n",
      "[CV]  classifier__C=10, score=(train=0.616, test=0.616), total=  13.3s\n",
      "[CV] classifier__C=10 ................................................\n",
      "[CV]  classifier__C=10, score=(train=0.616, test=0.614), total=  14.8s\n",
      "[CV] classifier__C=100 ...............................................\n"
     ]
    },
    {
     "name": "stderr",
     "output_type": "stream",
     "text": [
      "/home/det0m/.pyenv/versions/3.7.8/envs/bc_venv/lib/python3.7/site-packages/sklearn/linear_model/_logistic.py:764: ConvergenceWarning: lbfgs failed to converge (status=1):\n",
      "STOP: TOTAL NO. of ITERATIONS REACHED LIMIT.\n",
      "\n",
      "Increase the number of iterations (max_iter) or scale the data as shown in:\n",
      "    https://scikit-learn.org/stable/modules/preprocessing.html\n",
      "Please also refer to the documentation for alternative solver options:\n",
      "    https://scikit-learn.org/stable/modules/linear_model.html#logistic-regression\n",
      "  extra_warning_msg=_LOGISTIC_SOLVER_CONVERGENCE_MSG)\n"
     ]
    },
    {
     "name": "stdout",
     "output_type": "stream",
     "text": [
      "[CV]  classifier__C=100, score=(train=0.719, test=0.715), total=  21.8s\n",
      "[CV] classifier__C=100 ...............................................\n"
     ]
    },
    {
     "name": "stderr",
     "output_type": "stream",
     "text": [
      "/home/det0m/.pyenv/versions/3.7.8/envs/bc_venv/lib/python3.7/site-packages/sklearn/linear_model/_logistic.py:764: ConvergenceWarning: lbfgs failed to converge (status=1):\n",
      "STOP: TOTAL NO. of ITERATIONS REACHED LIMIT.\n",
      "\n",
      "Increase the number of iterations (max_iter) or scale the data as shown in:\n",
      "    https://scikit-learn.org/stable/modules/preprocessing.html\n",
      "Please also refer to the documentation for alternative solver options:\n",
      "    https://scikit-learn.org/stable/modules/linear_model.html#logistic-regression\n",
      "  extra_warning_msg=_LOGISTIC_SOLVER_CONVERGENCE_MSG)\n"
     ]
    },
    {
     "name": "stdout",
     "output_type": "stream",
     "text": [
      "[CV]  classifier__C=100, score=(train=0.722, test=0.723), total=  20.4s\n",
      "[CV] classifier__C=100 ...............................................\n",
      "[CV]  classifier__C=100, score=(train=0.616, test=0.621), total=  13.6s\n",
      "[CV] classifier__C=100 ...............................................\n",
      "[CV]  classifier__C=100, score=(train=0.616, test=0.616), total=  15.5s\n",
      "[CV] classifier__C=100 ...............................................\n",
      "[CV]  classifier__C=100, score=(train=0.616, test=0.614), total=  14.3s\n"
     ]
    },
    {
     "name": "stderr",
     "output_type": "stream",
     "text": [
      "[Parallel(n_jobs=1)]: Done  30 out of  30 | elapsed: 10.5min finished\n"
     ]
    },
    {
     "data": {
      "text/plain": [
       "0.6158249991165141"
      ]
     },
     "execution_count": 30,
     "metadata": {},
     "output_type": "execute_result"
    }
   ],
   "source": [
    "from sklearn.linear_model import LogisticRegression\n",
    "\n",
    "pipe_3 = Pipeline([('preprocessing', preprocess_pipeline), ('classifier', LogisticRegression())])\n",
    "\n",
    "param_grid_3 = {\n",
    "            'classifier__C': [0.001, 0.01, 0.1, 1, 10, 100]\n",
    "}\n",
    "\n",
    "grid_3 = GridSearchCV(pipe_3, param_grid_3, cv=kfold, return_train_score=True, verbose=10)\n",
    "\n",
    "grid_3.fit(X_train_over, y_train_over)\n",
    "grid_3.best_params_\n",
    "metrics.accuracy_score(y_test_over, grid_3.best_estimator_.predict(X_test_over))"
   ]
  },
  {
   "cell_type": "code",
   "execution_count": 35,
   "metadata": {
    "scrolled": true
   },
   "outputs": [
    {
     "name": "stdout",
     "output_type": "stream",
     "text": [
      "Fitting 5 folds for each of 48 candidates, totalling 240 fits\n",
      "[CV] classifier__max_depth=5, classifier__max_leaf_nodes=3, classifier__min_samples_split=2 \n"
     ]
    },
    {
     "name": "stderr",
     "output_type": "stream",
     "text": [
      "[Parallel(n_jobs=1)]: Using backend SequentialBackend with 1 concurrent workers.\n"
     ]
    },
    {
     "name": "stdout",
     "output_type": "stream",
     "text": [
      "[CV]  classifier__max_depth=5, classifier__max_leaf_nodes=3, classifier__min_samples_split=2, score=(train=0.729, test=0.722), total=   5.9s\n",
      "[CV] classifier__max_depth=5, classifier__max_leaf_nodes=3, classifier__min_samples_split=2 \n"
     ]
    },
    {
     "name": "stderr",
     "output_type": "stream",
     "text": [
      "[Parallel(n_jobs=1)]: Done   1 out of   1 | elapsed:    8.3s remaining:    0.0s\n"
     ]
    },
    {
     "name": "stdout",
     "output_type": "stream",
     "text": [
      "[CV]  classifier__max_depth=5, classifier__max_leaf_nodes=3, classifier__min_samples_split=2, score=(train=0.727, test=0.730), total=   5.9s\n",
      "[CV] classifier__max_depth=5, classifier__max_leaf_nodes=3, classifier__min_samples_split=2 \n"
     ]
    },
    {
     "name": "stderr",
     "output_type": "stream",
     "text": [
      "[Parallel(n_jobs=1)]: Done   2 out of   2 | elapsed:   16.6s remaining:    0.0s\n"
     ]
    },
    {
     "name": "stdout",
     "output_type": "stream",
     "text": [
      "[CV]  classifier__max_depth=5, classifier__max_leaf_nodes=3, classifier__min_samples_split=2, score=(train=0.727, test=0.727), total=   5.9s\n",
      "[CV] classifier__max_depth=5, classifier__max_leaf_nodes=3, classifier__min_samples_split=2 \n"
     ]
    },
    {
     "name": "stderr",
     "output_type": "stream",
     "text": [
      "[Parallel(n_jobs=1)]: Done   3 out of   3 | elapsed:   24.9s remaining:    0.0s\n"
     ]
    },
    {
     "name": "stdout",
     "output_type": "stream",
     "text": [
      "[CV]  classifier__max_depth=5, classifier__max_leaf_nodes=3, classifier__min_samples_split=2, score=(train=0.727, test=0.730), total=   5.8s\n",
      "[CV] classifier__max_depth=5, classifier__max_leaf_nodes=3, classifier__min_samples_split=2 \n"
     ]
    },
    {
     "name": "stderr",
     "output_type": "stream",
     "text": [
      "[Parallel(n_jobs=1)]: Done   4 out of   4 | elapsed:   33.1s remaining:    0.0s\n"
     ]
    },
    {
     "name": "stdout",
     "output_type": "stream",
     "text": [
      "[CV]  classifier__max_depth=5, classifier__max_leaf_nodes=3, classifier__min_samples_split=2, score=(train=0.727, test=0.728), total=   5.9s\n",
      "[CV] classifier__max_depth=5, classifier__max_leaf_nodes=3, classifier__min_samples_split=5 \n"
     ]
    },
    {
     "name": "stderr",
     "output_type": "stream",
     "text": [
      "[Parallel(n_jobs=1)]: Done   5 out of   5 | elapsed:   41.4s remaining:    0.0s\n"
     ]
    },
    {
     "name": "stdout",
     "output_type": "stream",
     "text": [
      "[CV]  classifier__max_depth=5, classifier__max_leaf_nodes=3, classifier__min_samples_split=5, score=(train=0.729, test=0.722), total=   6.0s\n",
      "[CV] classifier__max_depth=5, classifier__max_leaf_nodes=3, classifier__min_samples_split=5 \n"
     ]
    },
    {
     "name": "stderr",
     "output_type": "stream",
     "text": [
      "[Parallel(n_jobs=1)]: Done   6 out of   6 | elapsed:   50.0s remaining:    0.0s\n"
     ]
    },
    {
     "name": "stdout",
     "output_type": "stream",
     "text": [
      "[CV]  classifier__max_depth=5, classifier__max_leaf_nodes=3, classifier__min_samples_split=5, score=(train=0.727, test=0.730), total=   6.0s\n",
      "[CV] classifier__max_depth=5, classifier__max_leaf_nodes=3, classifier__min_samples_split=5 \n"
     ]
    },
    {
     "name": "stderr",
     "output_type": "stream",
     "text": [
      "[Parallel(n_jobs=1)]: Done   7 out of   7 | elapsed:   58.6s remaining:    0.0s\n"
     ]
    },
    {
     "name": "stdout",
     "output_type": "stream",
     "text": [
      "[CV]  classifier__max_depth=5, classifier__max_leaf_nodes=3, classifier__min_samples_split=5, score=(train=0.727, test=0.727), total=   5.9s\n",
      "[CV] classifier__max_depth=5, classifier__max_leaf_nodes=3, classifier__min_samples_split=5 \n"
     ]
    },
    {
     "name": "stderr",
     "output_type": "stream",
     "text": [
      "[Parallel(n_jobs=1)]: Done   8 out of   8 | elapsed:  1.1min remaining:    0.0s\n"
     ]
    },
    {
     "name": "stdout",
     "output_type": "stream",
     "text": [
      "[CV]  classifier__max_depth=5, classifier__max_leaf_nodes=3, classifier__min_samples_split=5, score=(train=0.727, test=0.730), total=   6.2s\n",
      "[CV] classifier__max_depth=5, classifier__max_leaf_nodes=3, classifier__min_samples_split=5 \n"
     ]
    },
    {
     "name": "stderr",
     "output_type": "stream",
     "text": [
      "[Parallel(n_jobs=1)]: Done   9 out of   9 | elapsed:  1.3min remaining:    0.0s\n"
     ]
    },
    {
     "name": "stdout",
     "output_type": "stream",
     "text": [
      "[CV]  classifier__max_depth=5, classifier__max_leaf_nodes=3, classifier__min_samples_split=5, score=(train=0.727, test=0.728), total=   6.0s\n",
      "[CV] classifier__max_depth=5, classifier__max_leaf_nodes=3, classifier__min_samples_split=10 \n",
      "[CV]  classifier__max_depth=5, classifier__max_leaf_nodes=3, classifier__min_samples_split=10, score=(train=0.729, test=0.722), total=   6.7s\n",
      "[CV] classifier__max_depth=5, classifier__max_leaf_nodes=3, classifier__min_samples_split=10 \n",
      "[CV]  classifier__max_depth=5, classifier__max_leaf_nodes=3, classifier__min_samples_split=10, score=(train=0.727, test=0.730), total=   6.8s\n",
      "[CV] classifier__max_depth=5, classifier__max_leaf_nodes=3, classifier__min_samples_split=10 \n",
      "[CV]  classifier__max_depth=5, classifier__max_leaf_nodes=3, classifier__min_samples_split=10, score=(train=0.727, test=0.727), total=   6.5s\n",
      "[CV] classifier__max_depth=5, classifier__max_leaf_nodes=3, classifier__min_samples_split=10 \n",
      "[CV]  classifier__max_depth=5, classifier__max_leaf_nodes=3, classifier__min_samples_split=10, score=(train=0.727, test=0.730), total=   6.6s\n",
      "[CV] classifier__max_depth=5, classifier__max_leaf_nodes=3, classifier__min_samples_split=10 \n",
      "[CV]  classifier__max_depth=5, classifier__max_leaf_nodes=3, classifier__min_samples_split=10, score=(train=0.727, test=0.728), total=   6.0s\n",
      "[CV] classifier__max_depth=5, classifier__max_leaf_nodes=3, classifier__min_samples_split=40 \n",
      "[CV]  classifier__max_depth=5, classifier__max_leaf_nodes=3, classifier__min_samples_split=40, score=(train=0.729, test=0.722), total=   6.5s\n",
      "[CV] classifier__max_depth=5, classifier__max_leaf_nodes=3, classifier__min_samples_split=40 \n",
      "[CV]  classifier__max_depth=5, classifier__max_leaf_nodes=3, classifier__min_samples_split=40, score=(train=0.727, test=0.730), total=   6.0s\n",
      "[CV] classifier__max_depth=5, classifier__max_leaf_nodes=3, classifier__min_samples_split=40 \n",
      "[CV]  classifier__max_depth=5, classifier__max_leaf_nodes=3, classifier__min_samples_split=40, score=(train=0.727, test=0.727), total=   6.5s\n",
      "[CV] classifier__max_depth=5, classifier__max_leaf_nodes=3, classifier__min_samples_split=40 \n",
      "[CV]  classifier__max_depth=5, classifier__max_leaf_nodes=3, classifier__min_samples_split=40, score=(train=0.727, test=0.730), total=   7.9s\n",
      "[CV] classifier__max_depth=5, classifier__max_leaf_nodes=3, classifier__min_samples_split=40 \n",
      "[CV]  classifier__max_depth=5, classifier__max_leaf_nodes=3, classifier__min_samples_split=40, score=(train=0.727, test=0.728), total=   6.6s\n",
      "[CV] classifier__max_depth=5, classifier__max_leaf_nodes=10, classifier__min_samples_split=2 \n",
      "[CV]  classifier__max_depth=5, classifier__max_leaf_nodes=10, classifier__min_samples_split=2, score=(train=0.759, test=0.755), total=   9.2s\n",
      "[CV] classifier__max_depth=5, classifier__max_leaf_nodes=10, classifier__min_samples_split=2 \n",
      "[CV]  classifier__max_depth=5, classifier__max_leaf_nodes=10, classifier__min_samples_split=2, score=(train=0.758, test=0.759), total=   9.2s\n",
      "[CV] classifier__max_depth=5, classifier__max_leaf_nodes=10, classifier__min_samples_split=2 \n",
      "[CV]  classifier__max_depth=5, classifier__max_leaf_nodes=10, classifier__min_samples_split=2, score=(train=0.758, test=0.757), total=   8.2s\n",
      "[CV] classifier__max_depth=5, classifier__max_leaf_nodes=10, classifier__min_samples_split=2 \n",
      "[CV]  classifier__max_depth=5, classifier__max_leaf_nodes=10, classifier__min_samples_split=2, score=(train=0.757, test=0.760), total=   8.2s\n",
      "[CV] classifier__max_depth=5, classifier__max_leaf_nodes=10, classifier__min_samples_split=2 \n",
      "[CV]  classifier__max_depth=5, classifier__max_leaf_nodes=10, classifier__min_samples_split=2, score=(train=0.758, test=0.758), total=   8.1s\n",
      "[CV] classifier__max_depth=5, classifier__max_leaf_nodes=10, classifier__min_samples_split=5 \n",
      "[CV]  classifier__max_depth=5, classifier__max_leaf_nodes=10, classifier__min_samples_split=5, score=(train=0.759, test=0.755), total=  10.4s\n",
      "[CV] classifier__max_depth=5, classifier__max_leaf_nodes=10, classifier__min_samples_split=5 \n",
      "[CV]  classifier__max_depth=5, classifier__max_leaf_nodes=10, classifier__min_samples_split=5, score=(train=0.758, test=0.759), total=   8.3s\n",
      "[CV] classifier__max_depth=5, classifier__max_leaf_nodes=10, classifier__min_samples_split=5 \n",
      "[CV]  classifier__max_depth=5, classifier__max_leaf_nodes=10, classifier__min_samples_split=5, score=(train=0.758, test=0.757), total=   8.1s\n",
      "[CV] classifier__max_depth=5, classifier__max_leaf_nodes=10, classifier__min_samples_split=5 \n",
      "[CV]  classifier__max_depth=5, classifier__max_leaf_nodes=10, classifier__min_samples_split=5, score=(train=0.757, test=0.760), total=   8.0s\n",
      "[CV] classifier__max_depth=5, classifier__max_leaf_nodes=10, classifier__min_samples_split=5 \n",
      "[CV]  classifier__max_depth=5, classifier__max_leaf_nodes=10, classifier__min_samples_split=5, score=(train=0.758, test=0.758), total=   8.9s\n",
      "[CV] classifier__max_depth=5, classifier__max_leaf_nodes=10, classifier__min_samples_split=10 \n",
      "[CV]  classifier__max_depth=5, classifier__max_leaf_nodes=10, classifier__min_samples_split=10, score=(train=0.759, test=0.755), total=   8.9s\n",
      "[CV] classifier__max_depth=5, classifier__max_leaf_nodes=10, classifier__min_samples_split=10 \n",
      "[CV]  classifier__max_depth=5, classifier__max_leaf_nodes=10, classifier__min_samples_split=10, score=(train=0.758, test=0.759), total=   9.5s\n",
      "[CV] classifier__max_depth=5, classifier__max_leaf_nodes=10, classifier__min_samples_split=10 \n",
      "[CV]  classifier__max_depth=5, classifier__max_leaf_nodes=10, classifier__min_samples_split=10, score=(train=0.758, test=0.757), total=   8.2s\n",
      "[CV] classifier__max_depth=5, classifier__max_leaf_nodes=10, classifier__min_samples_split=10 \n",
      "[CV]  classifier__max_depth=5, classifier__max_leaf_nodes=10, classifier__min_samples_split=10, score=(train=0.757, test=0.760), total=   8.0s\n",
      "[CV] classifier__max_depth=5, classifier__max_leaf_nodes=10, classifier__min_samples_split=10 \n",
      "[CV]  classifier__max_depth=5, classifier__max_leaf_nodes=10, classifier__min_samples_split=10, score=(train=0.758, test=0.758), total=   8.3s\n",
      "[CV] classifier__max_depth=5, classifier__max_leaf_nodes=10, classifier__min_samples_split=40 \n",
      "[CV]  classifier__max_depth=5, classifier__max_leaf_nodes=10, classifier__min_samples_split=40, score=(train=0.759, test=0.755), total=   8.0s\n",
      "[CV] classifier__max_depth=5, classifier__max_leaf_nodes=10, classifier__min_samples_split=40 \n",
      "[CV]  classifier__max_depth=5, classifier__max_leaf_nodes=10, classifier__min_samples_split=40, score=(train=0.758, test=0.759), total=   8.5s\n",
      "[CV] classifier__max_depth=5, classifier__max_leaf_nodes=10, classifier__min_samples_split=40 \n",
      "[CV]  classifier__max_depth=5, classifier__max_leaf_nodes=10, classifier__min_samples_split=40, score=(train=0.758, test=0.757), total=   9.4s\n",
      "[CV] classifier__max_depth=5, classifier__max_leaf_nodes=10, classifier__min_samples_split=40 \n",
      "[CV]  classifier__max_depth=5, classifier__max_leaf_nodes=10, classifier__min_samples_split=40, score=(train=0.757, test=0.760), total=   8.5s\n",
      "[CV] classifier__max_depth=5, classifier__max_leaf_nodes=10, classifier__min_samples_split=40 \n",
      "[CV]  classifier__max_depth=5, classifier__max_leaf_nodes=10, classifier__min_samples_split=40, score=(train=0.758, test=0.758), total=   8.8s\n",
      "[CV] classifier__max_depth=5, classifier__max_leaf_nodes=30, classifier__min_samples_split=2 \n",
      "[CV]  classifier__max_depth=5, classifier__max_leaf_nodes=30, classifier__min_samples_split=2, score=(train=0.774, test=0.770), total=   9.4s\n",
      "[CV] classifier__max_depth=5, classifier__max_leaf_nodes=30, classifier__min_samples_split=2 \n",
      "[CV]  classifier__max_depth=5, classifier__max_leaf_nodes=30, classifier__min_samples_split=2, score=(train=0.773, test=0.773), total=   8.9s\n",
      "[CV] classifier__max_depth=5, classifier__max_leaf_nodes=30, classifier__min_samples_split=2 \n",
      "[CV]  classifier__max_depth=5, classifier__max_leaf_nodes=30, classifier__min_samples_split=2, score=(train=0.773, test=0.772), total=   8.8s\n",
      "[CV] classifier__max_depth=5, classifier__max_leaf_nodes=30, classifier__min_samples_split=2 \n",
      "[CV]  classifier__max_depth=5, classifier__max_leaf_nodes=30, classifier__min_samples_split=2, score=(train=0.772, test=0.775), total=   9.0s\n",
      "[CV] classifier__max_depth=5, classifier__max_leaf_nodes=30, classifier__min_samples_split=2 \n"
     ]
    },
    {
     "name": "stdout",
     "output_type": "stream",
     "text": [
      "[CV]  classifier__max_depth=5, classifier__max_leaf_nodes=30, classifier__min_samples_split=2, score=(train=0.773, test=0.773), total=   8.6s\n",
      "[CV] classifier__max_depth=5, classifier__max_leaf_nodes=30, classifier__min_samples_split=5 \n",
      "[CV]  classifier__max_depth=5, classifier__max_leaf_nodes=30, classifier__min_samples_split=5, score=(train=0.774, test=0.770), total=   9.4s\n",
      "[CV] classifier__max_depth=5, classifier__max_leaf_nodes=30, classifier__min_samples_split=5 \n",
      "[CV]  classifier__max_depth=5, classifier__max_leaf_nodes=30, classifier__min_samples_split=5, score=(train=0.773, test=0.773), total=   9.0s\n",
      "[CV] classifier__max_depth=5, classifier__max_leaf_nodes=30, classifier__min_samples_split=5 \n",
      "[CV]  classifier__max_depth=5, classifier__max_leaf_nodes=30, classifier__min_samples_split=5, score=(train=0.773, test=0.772), total=   9.2s\n",
      "[CV] classifier__max_depth=5, classifier__max_leaf_nodes=30, classifier__min_samples_split=5 \n",
      "[CV]  classifier__max_depth=5, classifier__max_leaf_nodes=30, classifier__min_samples_split=5, score=(train=0.772, test=0.775), total=   8.6s\n",
      "[CV] classifier__max_depth=5, classifier__max_leaf_nodes=30, classifier__min_samples_split=5 \n",
      "[CV]  classifier__max_depth=5, classifier__max_leaf_nodes=30, classifier__min_samples_split=5, score=(train=0.773, test=0.773), total=   8.6s\n",
      "[CV] classifier__max_depth=5, classifier__max_leaf_nodes=30, classifier__min_samples_split=10 \n",
      "[CV]  classifier__max_depth=5, classifier__max_leaf_nodes=30, classifier__min_samples_split=10, score=(train=0.774, test=0.770), total=   8.8s\n",
      "[CV] classifier__max_depth=5, classifier__max_leaf_nodes=30, classifier__min_samples_split=10 \n",
      "[CV]  classifier__max_depth=5, classifier__max_leaf_nodes=30, classifier__min_samples_split=10, score=(train=0.773, test=0.773), total=   9.0s\n",
      "[CV] classifier__max_depth=5, classifier__max_leaf_nodes=30, classifier__min_samples_split=10 \n",
      "[CV]  classifier__max_depth=5, classifier__max_leaf_nodes=30, classifier__min_samples_split=10, score=(train=0.773, test=0.772), total=   9.3s\n",
      "[CV] classifier__max_depth=5, classifier__max_leaf_nodes=30, classifier__min_samples_split=10 \n",
      "[CV]  classifier__max_depth=5, classifier__max_leaf_nodes=30, classifier__min_samples_split=10, score=(train=0.772, test=0.775), total=   9.5s\n",
      "[CV] classifier__max_depth=5, classifier__max_leaf_nodes=30, classifier__min_samples_split=10 \n",
      "[CV]  classifier__max_depth=5, classifier__max_leaf_nodes=30, classifier__min_samples_split=10, score=(train=0.773, test=0.773), total=   8.9s\n",
      "[CV] classifier__max_depth=5, classifier__max_leaf_nodes=30, classifier__min_samples_split=40 \n",
      "[CV]  classifier__max_depth=5, classifier__max_leaf_nodes=30, classifier__min_samples_split=40, score=(train=0.774, test=0.770), total=   8.9s\n",
      "[CV] classifier__max_depth=5, classifier__max_leaf_nodes=30, classifier__min_samples_split=40 \n",
      "[CV]  classifier__max_depth=5, classifier__max_leaf_nodes=30, classifier__min_samples_split=40, score=(train=0.773, test=0.773), total=   8.6s\n",
      "[CV] classifier__max_depth=5, classifier__max_leaf_nodes=30, classifier__min_samples_split=40 \n",
      "[CV]  classifier__max_depth=5, classifier__max_leaf_nodes=30, classifier__min_samples_split=40, score=(train=0.773, test=0.772), total=   8.4s\n",
      "[CV] classifier__max_depth=5, classifier__max_leaf_nodes=30, classifier__min_samples_split=40 \n",
      "[CV]  classifier__max_depth=5, classifier__max_leaf_nodes=30, classifier__min_samples_split=40, score=(train=0.772, test=0.775), total=   8.6s\n",
      "[CV] classifier__max_depth=5, classifier__max_leaf_nodes=30, classifier__min_samples_split=40 \n",
      "[CV]  classifier__max_depth=5, classifier__max_leaf_nodes=30, classifier__min_samples_split=40, score=(train=0.773, test=0.773), total=   8.5s\n",
      "[CV] classifier__max_depth=5, classifier__max_leaf_nodes=40, classifier__min_samples_split=2 \n",
      "[CV]  classifier__max_depth=5, classifier__max_leaf_nodes=40, classifier__min_samples_split=2, score=(train=0.774, test=0.770), total=   8.6s\n",
      "[CV] classifier__max_depth=5, classifier__max_leaf_nodes=40, classifier__min_samples_split=2 \n",
      "[CV]  classifier__max_depth=5, classifier__max_leaf_nodes=40, classifier__min_samples_split=2, score=(train=0.773, test=0.773), total=   8.6s\n",
      "[CV] classifier__max_depth=5, classifier__max_leaf_nodes=40, classifier__min_samples_split=2 \n",
      "[CV]  classifier__max_depth=5, classifier__max_leaf_nodes=40, classifier__min_samples_split=2, score=(train=0.773, test=0.772), total=   8.6s\n",
      "[CV] classifier__max_depth=5, classifier__max_leaf_nodes=40, classifier__min_samples_split=2 \n",
      "[CV]  classifier__max_depth=5, classifier__max_leaf_nodes=40, classifier__min_samples_split=2, score=(train=0.772, test=0.775), total=   8.6s\n",
      "[CV] classifier__max_depth=5, classifier__max_leaf_nodes=40, classifier__min_samples_split=2 \n",
      "[CV]  classifier__max_depth=5, classifier__max_leaf_nodes=40, classifier__min_samples_split=2, score=(train=0.773, test=0.773), total=   8.5s\n",
      "[CV] classifier__max_depth=5, classifier__max_leaf_nodes=40, classifier__min_samples_split=5 \n",
      "[CV]  classifier__max_depth=5, classifier__max_leaf_nodes=40, classifier__min_samples_split=5, score=(train=0.774, test=0.770), total=   8.5s\n",
      "[CV] classifier__max_depth=5, classifier__max_leaf_nodes=40, classifier__min_samples_split=5 \n",
      "[CV]  classifier__max_depth=5, classifier__max_leaf_nodes=40, classifier__min_samples_split=5, score=(train=0.773, test=0.774), total=   8.6s\n",
      "[CV] classifier__max_depth=5, classifier__max_leaf_nodes=40, classifier__min_samples_split=5 \n",
      "[CV]  classifier__max_depth=5, classifier__max_leaf_nodes=40, classifier__min_samples_split=5, score=(train=0.773, test=0.772), total=   8.4s\n",
      "[CV] classifier__max_depth=5, classifier__max_leaf_nodes=40, classifier__min_samples_split=5 \n",
      "[CV]  classifier__max_depth=5, classifier__max_leaf_nodes=40, classifier__min_samples_split=5, score=(train=0.772, test=0.775), total=   8.5s\n",
      "[CV] classifier__max_depth=5, classifier__max_leaf_nodes=40, classifier__min_samples_split=5 \n",
      "[CV]  classifier__max_depth=5, classifier__max_leaf_nodes=40, classifier__min_samples_split=5, score=(train=0.773, test=0.773), total=   8.5s\n",
      "[CV] classifier__max_depth=5, classifier__max_leaf_nodes=40, classifier__min_samples_split=10 \n",
      "[CV]  classifier__max_depth=5, classifier__max_leaf_nodes=40, classifier__min_samples_split=10, score=(train=0.774, test=0.770), total=   8.6s\n",
      "[CV] classifier__max_depth=5, classifier__max_leaf_nodes=40, classifier__min_samples_split=10 \n",
      "[CV]  classifier__max_depth=5, classifier__max_leaf_nodes=40, classifier__min_samples_split=10, score=(train=0.773, test=0.774), total=   8.6s\n",
      "[CV] classifier__max_depth=5, classifier__max_leaf_nodes=40, classifier__min_samples_split=10 \n",
      "[CV]  classifier__max_depth=5, classifier__max_leaf_nodes=40, classifier__min_samples_split=10, score=(train=0.773, test=0.772), total=   9.4s\n",
      "[CV] classifier__max_depth=5, classifier__max_leaf_nodes=40, classifier__min_samples_split=10 \n",
      "[CV]  classifier__max_depth=5, classifier__max_leaf_nodes=40, classifier__min_samples_split=10, score=(train=0.772, test=0.775), total=  10.6s\n",
      "[CV] classifier__max_depth=5, classifier__max_leaf_nodes=40, classifier__min_samples_split=10 \n",
      "[CV]  classifier__max_depth=5, classifier__max_leaf_nodes=40, classifier__min_samples_split=10, score=(train=0.773, test=0.773), total=   8.5s\n",
      "[CV] classifier__max_depth=5, classifier__max_leaf_nodes=40, classifier__min_samples_split=40 \n",
      "[CV]  classifier__max_depth=5, classifier__max_leaf_nodes=40, classifier__min_samples_split=40, score=(train=0.774, test=0.770), total=   8.6s\n",
      "[CV] classifier__max_depth=5, classifier__max_leaf_nodes=40, classifier__min_samples_split=40 \n",
      "[CV]  classifier__max_depth=5, classifier__max_leaf_nodes=40, classifier__min_samples_split=40, score=(train=0.773, test=0.773), total=   8.6s\n",
      "[CV] classifier__max_depth=5, classifier__max_leaf_nodes=40, classifier__min_samples_split=40 \n",
      "[CV]  classifier__max_depth=5, classifier__max_leaf_nodes=40, classifier__min_samples_split=40, score=(train=0.773, test=0.772), total=   8.4s\n",
      "[CV] classifier__max_depth=5, classifier__max_leaf_nodes=40, classifier__min_samples_split=40 \n",
      "[CV]  classifier__max_depth=5, classifier__max_leaf_nodes=40, classifier__min_samples_split=40, score=(train=0.772, test=0.775), total=   8.6s\n",
      "[CV] classifier__max_depth=5, classifier__max_leaf_nodes=40, classifier__min_samples_split=40 \n"
     ]
    },
    {
     "name": "stdout",
     "output_type": "stream",
     "text": [
      "[CV]  classifier__max_depth=5, classifier__max_leaf_nodes=40, classifier__min_samples_split=40, score=(train=0.773, test=0.773), total=   8.5s\n",
      "[CV] classifier__max_depth=10, classifier__max_leaf_nodes=3, classifier__min_samples_split=2 \n",
      "[CV]  classifier__max_depth=10, classifier__max_leaf_nodes=3, classifier__min_samples_split=2, score=(train=0.729, test=0.722), total=   5.9s\n",
      "[CV] classifier__max_depth=10, classifier__max_leaf_nodes=3, classifier__min_samples_split=2 \n",
      "[CV]  classifier__max_depth=10, classifier__max_leaf_nodes=3, classifier__min_samples_split=2, score=(train=0.727, test=0.730), total=   5.9s\n",
      "[CV] classifier__max_depth=10, classifier__max_leaf_nodes=3, classifier__min_samples_split=2 \n",
      "[CV]  classifier__max_depth=10, classifier__max_leaf_nodes=3, classifier__min_samples_split=2, score=(train=0.727, test=0.727), total=   5.9s\n",
      "[CV] classifier__max_depth=10, classifier__max_leaf_nodes=3, classifier__min_samples_split=2 \n",
      "[CV]  classifier__max_depth=10, classifier__max_leaf_nodes=3, classifier__min_samples_split=2, score=(train=0.727, test=0.730), total=   6.5s\n",
      "[CV] classifier__max_depth=10, classifier__max_leaf_nodes=3, classifier__min_samples_split=2 \n",
      "[CV]  classifier__max_depth=10, classifier__max_leaf_nodes=3, classifier__min_samples_split=2, score=(train=0.727, test=0.728), total=   6.1s\n",
      "[CV] classifier__max_depth=10, classifier__max_leaf_nodes=3, classifier__min_samples_split=5 \n",
      "[CV]  classifier__max_depth=10, classifier__max_leaf_nodes=3, classifier__min_samples_split=5, score=(train=0.729, test=0.722), total=   5.8s\n",
      "[CV] classifier__max_depth=10, classifier__max_leaf_nodes=3, classifier__min_samples_split=5 \n",
      "[CV]  classifier__max_depth=10, classifier__max_leaf_nodes=3, classifier__min_samples_split=5, score=(train=0.727, test=0.730), total=   5.7s\n",
      "[CV] classifier__max_depth=10, classifier__max_leaf_nodes=3, classifier__min_samples_split=5 \n",
      "[CV]  classifier__max_depth=10, classifier__max_leaf_nodes=3, classifier__min_samples_split=5, score=(train=0.727, test=0.727), total=   5.7s\n",
      "[CV] classifier__max_depth=10, classifier__max_leaf_nodes=3, classifier__min_samples_split=5 \n",
      "[CV]  classifier__max_depth=10, classifier__max_leaf_nodes=3, classifier__min_samples_split=5, score=(train=0.727, test=0.730), total=   5.7s\n",
      "[CV] classifier__max_depth=10, classifier__max_leaf_nodes=3, classifier__min_samples_split=5 \n",
      "[CV]  classifier__max_depth=10, classifier__max_leaf_nodes=3, classifier__min_samples_split=5, score=(train=0.727, test=0.728), total=   5.7s\n",
      "[CV] classifier__max_depth=10, classifier__max_leaf_nodes=3, classifier__min_samples_split=10 \n",
      "[CV]  classifier__max_depth=10, classifier__max_leaf_nodes=3, classifier__min_samples_split=10, score=(train=0.729, test=0.722), total=   5.7s\n",
      "[CV] classifier__max_depth=10, classifier__max_leaf_nodes=3, classifier__min_samples_split=10 \n",
      "[CV]  classifier__max_depth=10, classifier__max_leaf_nodes=3, classifier__min_samples_split=10, score=(train=0.727, test=0.730), total=   5.7s\n",
      "[CV] classifier__max_depth=10, classifier__max_leaf_nodes=3, classifier__min_samples_split=10 \n",
      "[CV]  classifier__max_depth=10, classifier__max_leaf_nodes=3, classifier__min_samples_split=10, score=(train=0.727, test=0.727), total=   5.7s\n",
      "[CV] classifier__max_depth=10, classifier__max_leaf_nodes=3, classifier__min_samples_split=10 \n",
      "[CV]  classifier__max_depth=10, classifier__max_leaf_nodes=3, classifier__min_samples_split=10, score=(train=0.727, test=0.730), total=   5.7s\n",
      "[CV] classifier__max_depth=10, classifier__max_leaf_nodes=3, classifier__min_samples_split=10 \n",
      "[CV]  classifier__max_depth=10, classifier__max_leaf_nodes=3, classifier__min_samples_split=10, score=(train=0.727, test=0.728), total=   5.7s\n",
      "[CV] classifier__max_depth=10, classifier__max_leaf_nodes=3, classifier__min_samples_split=40 \n",
      "[CV]  classifier__max_depth=10, classifier__max_leaf_nodes=3, classifier__min_samples_split=40, score=(train=0.729, test=0.722), total=   5.7s\n",
      "[CV] classifier__max_depth=10, classifier__max_leaf_nodes=3, classifier__min_samples_split=40 \n",
      "[CV]  classifier__max_depth=10, classifier__max_leaf_nodes=3, classifier__min_samples_split=40, score=(train=0.727, test=0.730), total=   5.7s\n",
      "[CV] classifier__max_depth=10, classifier__max_leaf_nodes=3, classifier__min_samples_split=40 \n",
      "[CV]  classifier__max_depth=10, classifier__max_leaf_nodes=3, classifier__min_samples_split=40, score=(train=0.727, test=0.727), total=   5.6s\n",
      "[CV] classifier__max_depth=10, classifier__max_leaf_nodes=3, classifier__min_samples_split=40 \n",
      "[CV]  classifier__max_depth=10, classifier__max_leaf_nodes=3, classifier__min_samples_split=40, score=(train=0.727, test=0.730), total=   5.6s\n",
      "[CV] classifier__max_depth=10, classifier__max_leaf_nodes=3, classifier__min_samples_split=40 \n",
      "[CV]  classifier__max_depth=10, classifier__max_leaf_nodes=3, classifier__min_samples_split=40, score=(train=0.727, test=0.728), total=   5.7s\n",
      "[CV] classifier__max_depth=10, classifier__max_leaf_nodes=10, classifier__min_samples_split=2 \n",
      "[CV]  classifier__max_depth=10, classifier__max_leaf_nodes=10, classifier__min_samples_split=2, score=(train=0.759, test=0.755), total=   8.9s\n",
      "[CV] classifier__max_depth=10, classifier__max_leaf_nodes=10, classifier__min_samples_split=2 \n",
      "[CV]  classifier__max_depth=10, classifier__max_leaf_nodes=10, classifier__min_samples_split=2, score=(train=0.758, test=0.759), total=   8.7s\n",
      "[CV] classifier__max_depth=10, classifier__max_leaf_nodes=10, classifier__min_samples_split=2 \n",
      "[CV]  classifier__max_depth=10, classifier__max_leaf_nodes=10, classifier__min_samples_split=2, score=(train=0.758, test=0.757), total=   8.2s\n",
      "[CV] classifier__max_depth=10, classifier__max_leaf_nodes=10, classifier__min_samples_split=2 \n",
      "[CV]  classifier__max_depth=10, classifier__max_leaf_nodes=10, classifier__min_samples_split=2, score=(train=0.757, test=0.760), total=   8.1s\n",
      "[CV] classifier__max_depth=10, classifier__max_leaf_nodes=10, classifier__min_samples_split=2 \n",
      "[CV]  classifier__max_depth=10, classifier__max_leaf_nodes=10, classifier__min_samples_split=2, score=(train=0.758, test=0.758), total=   8.2s\n",
      "[CV] classifier__max_depth=10, classifier__max_leaf_nodes=10, classifier__min_samples_split=5 \n",
      "[CV]  classifier__max_depth=10, classifier__max_leaf_nodes=10, classifier__min_samples_split=5, score=(train=0.759, test=0.755), total=   8.8s\n",
      "[CV] classifier__max_depth=10, classifier__max_leaf_nodes=10, classifier__min_samples_split=5 \n",
      "[CV]  classifier__max_depth=10, classifier__max_leaf_nodes=10, classifier__min_samples_split=5, score=(train=0.758, test=0.759), total=   8.7s\n",
      "[CV] classifier__max_depth=10, classifier__max_leaf_nodes=10, classifier__min_samples_split=5 \n",
      "[CV]  classifier__max_depth=10, classifier__max_leaf_nodes=10, classifier__min_samples_split=5, score=(train=0.758, test=0.757), total=   8.2s\n",
      "[CV] classifier__max_depth=10, classifier__max_leaf_nodes=10, classifier__min_samples_split=5 \n",
      "[CV]  classifier__max_depth=10, classifier__max_leaf_nodes=10, classifier__min_samples_split=5, score=(train=0.757, test=0.760), total=   8.2s\n",
      "[CV] classifier__max_depth=10, classifier__max_leaf_nodes=10, classifier__min_samples_split=5 \n",
      "[CV]  classifier__max_depth=10, classifier__max_leaf_nodes=10, classifier__min_samples_split=5, score=(train=0.758, test=0.758), total=   8.2s\n",
      "[CV] classifier__max_depth=10, classifier__max_leaf_nodes=10, classifier__min_samples_split=10 \n",
      "[CV]  classifier__max_depth=10, classifier__max_leaf_nodes=10, classifier__min_samples_split=10, score=(train=0.759, test=0.755), total=   8.8s\n",
      "[CV] classifier__max_depth=10, classifier__max_leaf_nodes=10, classifier__min_samples_split=10 \n",
      "[CV]  classifier__max_depth=10, classifier__max_leaf_nodes=10, classifier__min_samples_split=10, score=(train=0.758, test=0.759), total=   8.8s\n",
      "[CV] classifier__max_depth=10, classifier__max_leaf_nodes=10, classifier__min_samples_split=10 \n",
      "[CV]  classifier__max_depth=10, classifier__max_leaf_nodes=10, classifier__min_samples_split=10, score=(train=0.758, test=0.757), total=   8.1s\n",
      "[CV] classifier__max_depth=10, classifier__max_leaf_nodes=10, classifier__min_samples_split=10 \n",
      "[CV]  classifier__max_depth=10, classifier__max_leaf_nodes=10, classifier__min_samples_split=10, score=(train=0.757, test=0.760), total=   8.1s\n",
      "[CV] classifier__max_depth=10, classifier__max_leaf_nodes=10, classifier__min_samples_split=10 \n"
     ]
    },
    {
     "name": "stdout",
     "output_type": "stream",
     "text": [
      "[CV]  classifier__max_depth=10, classifier__max_leaf_nodes=10, classifier__min_samples_split=10, score=(train=0.758, test=0.758), total=   8.3s\n",
      "[CV] classifier__max_depth=10, classifier__max_leaf_nodes=10, classifier__min_samples_split=40 \n",
      "[CV]  classifier__max_depth=10, classifier__max_leaf_nodes=10, classifier__min_samples_split=40, score=(train=0.759, test=0.755), total=   8.8s\n",
      "[CV] classifier__max_depth=10, classifier__max_leaf_nodes=10, classifier__min_samples_split=40 \n",
      "[CV]  classifier__max_depth=10, classifier__max_leaf_nodes=10, classifier__min_samples_split=40, score=(train=0.758, test=0.759), total=   8.7s\n",
      "[CV] classifier__max_depth=10, classifier__max_leaf_nodes=10, classifier__min_samples_split=40 \n",
      "[CV]  classifier__max_depth=10, classifier__max_leaf_nodes=10, classifier__min_samples_split=40, score=(train=0.758, test=0.757), total=   8.1s\n",
      "[CV] classifier__max_depth=10, classifier__max_leaf_nodes=10, classifier__min_samples_split=40 \n",
      "[CV]  classifier__max_depth=10, classifier__max_leaf_nodes=10, classifier__min_samples_split=40, score=(train=0.757, test=0.760), total=   8.1s\n",
      "[CV] classifier__max_depth=10, classifier__max_leaf_nodes=10, classifier__min_samples_split=40 \n",
      "[CV]  classifier__max_depth=10, classifier__max_leaf_nodes=10, classifier__min_samples_split=40, score=(train=0.758, test=0.758), total=   8.2s\n",
      "[CV] classifier__max_depth=10, classifier__max_leaf_nodes=30, classifier__min_samples_split=2 \n",
      "[CV]  classifier__max_depth=10, classifier__max_leaf_nodes=30, classifier__min_samples_split=2, score=(train=0.777, test=0.771), total=  10.5s\n",
      "[CV] classifier__max_depth=10, classifier__max_leaf_nodes=30, classifier__min_samples_split=2 \n",
      "[CV]  classifier__max_depth=10, classifier__max_leaf_nodes=30, classifier__min_samples_split=2, score=(train=0.779, test=0.781), total=  10.3s\n",
      "[CV] classifier__max_depth=10, classifier__max_leaf_nodes=30, classifier__min_samples_split=2 \n",
      "[CV]  classifier__max_depth=10, classifier__max_leaf_nodes=30, classifier__min_samples_split=2, score=(train=0.776, test=0.774), total=  10.5s\n",
      "[CV] classifier__max_depth=10, classifier__max_leaf_nodes=30, classifier__min_samples_split=2 \n",
      "[CV]  classifier__max_depth=10, classifier__max_leaf_nodes=30, classifier__min_samples_split=2, score=(train=0.776, test=0.777), total=  10.2s\n",
      "[CV] classifier__max_depth=10, classifier__max_leaf_nodes=30, classifier__min_samples_split=2 \n",
      "[CV]  classifier__max_depth=10, classifier__max_leaf_nodes=30, classifier__min_samples_split=2, score=(train=0.780, test=0.780), total=  10.5s\n",
      "[CV] classifier__max_depth=10, classifier__max_leaf_nodes=30, classifier__min_samples_split=5 \n",
      "[CV]  classifier__max_depth=10, classifier__max_leaf_nodes=30, classifier__min_samples_split=5, score=(train=0.777, test=0.771), total=  10.4s\n",
      "[CV] classifier__max_depth=10, classifier__max_leaf_nodes=30, classifier__min_samples_split=5 \n",
      "[CV]  classifier__max_depth=10, classifier__max_leaf_nodes=30, classifier__min_samples_split=5, score=(train=0.779, test=0.781), total=  10.3s\n",
      "[CV] classifier__max_depth=10, classifier__max_leaf_nodes=30, classifier__min_samples_split=5 \n",
      "[CV]  classifier__max_depth=10, classifier__max_leaf_nodes=30, classifier__min_samples_split=5, score=(train=0.776, test=0.774), total=  10.5s\n",
      "[CV] classifier__max_depth=10, classifier__max_leaf_nodes=30, classifier__min_samples_split=5 \n",
      "[CV]  classifier__max_depth=10, classifier__max_leaf_nodes=30, classifier__min_samples_split=5, score=(train=0.776, test=0.777), total=  10.5s\n",
      "[CV] classifier__max_depth=10, classifier__max_leaf_nodes=30, classifier__min_samples_split=5 \n",
      "[CV]  classifier__max_depth=10, classifier__max_leaf_nodes=30, classifier__min_samples_split=5, score=(train=0.780, test=0.780), total=  13.2s\n",
      "[CV] classifier__max_depth=10, classifier__max_leaf_nodes=30, classifier__min_samples_split=10 \n",
      "[CV]  classifier__max_depth=10, classifier__max_leaf_nodes=30, classifier__min_samples_split=10, score=(train=0.777, test=0.771), total=  11.1s\n",
      "[CV] classifier__max_depth=10, classifier__max_leaf_nodes=30, classifier__min_samples_split=10 \n",
      "[CV]  classifier__max_depth=10, classifier__max_leaf_nodes=30, classifier__min_samples_split=10, score=(train=0.779, test=0.781), total=  11.0s\n",
      "[CV] classifier__max_depth=10, classifier__max_leaf_nodes=30, classifier__min_samples_split=10 \n",
      "[CV]  classifier__max_depth=10, classifier__max_leaf_nodes=30, classifier__min_samples_split=10, score=(train=0.776, test=0.774), total=  11.0s\n",
      "[CV] classifier__max_depth=10, classifier__max_leaf_nodes=30, classifier__min_samples_split=10 \n",
      "[CV]  classifier__max_depth=10, classifier__max_leaf_nodes=30, classifier__min_samples_split=10, score=(train=0.776, test=0.777), total=  11.3s\n",
      "[CV] classifier__max_depth=10, classifier__max_leaf_nodes=30, classifier__min_samples_split=10 \n",
      "[CV]  classifier__max_depth=10, classifier__max_leaf_nodes=30, classifier__min_samples_split=10, score=(train=0.780, test=0.780), total=  11.7s\n",
      "[CV] classifier__max_depth=10, classifier__max_leaf_nodes=30, classifier__min_samples_split=40 \n",
      "[CV]  classifier__max_depth=10, classifier__max_leaf_nodes=30, classifier__min_samples_split=40, score=(train=0.777, test=0.771), total=  11.2s\n",
      "[CV] classifier__max_depth=10, classifier__max_leaf_nodes=30, classifier__min_samples_split=40 \n",
      "[CV]  classifier__max_depth=10, classifier__max_leaf_nodes=30, classifier__min_samples_split=40, score=(train=0.779, test=0.781), total=  12.0s\n",
      "[CV] classifier__max_depth=10, classifier__max_leaf_nodes=30, classifier__min_samples_split=40 \n",
      "[CV]  classifier__max_depth=10, classifier__max_leaf_nodes=30, classifier__min_samples_split=40, score=(train=0.776, test=0.774), total=  11.2s\n",
      "[CV] classifier__max_depth=10, classifier__max_leaf_nodes=30, classifier__min_samples_split=40 \n",
      "[CV]  classifier__max_depth=10, classifier__max_leaf_nodes=30, classifier__min_samples_split=40, score=(train=0.776, test=0.777), total=  10.8s\n",
      "[CV] classifier__max_depth=10, classifier__max_leaf_nodes=30, classifier__min_samples_split=40 \n",
      "[CV]  classifier__max_depth=10, classifier__max_leaf_nodes=30, classifier__min_samples_split=40, score=(train=0.780, test=0.780), total=  11.4s\n",
      "[CV] classifier__max_depth=10, classifier__max_leaf_nodes=40, classifier__min_samples_split=2 \n",
      "[CV]  classifier__max_depth=10, classifier__max_leaf_nodes=40, classifier__min_samples_split=2, score=(train=0.783, test=0.776), total=  11.3s\n",
      "[CV] classifier__max_depth=10, classifier__max_leaf_nodes=40, classifier__min_samples_split=2 \n",
      "[CV]  classifier__max_depth=10, classifier__max_leaf_nodes=40, classifier__min_samples_split=2, score=(train=0.783, test=0.785), total=  11.6s\n",
      "[CV] classifier__max_depth=10, classifier__max_leaf_nodes=40, classifier__min_samples_split=2 \n",
      "[CV]  classifier__max_depth=10, classifier__max_leaf_nodes=40, classifier__min_samples_split=2, score=(train=0.782, test=0.779), total=  11.3s\n",
      "[CV] classifier__max_depth=10, classifier__max_leaf_nodes=40, classifier__min_samples_split=2 \n",
      "[CV]  classifier__max_depth=10, classifier__max_leaf_nodes=40, classifier__min_samples_split=2, score=(train=0.786, test=0.787), total=  11.0s\n",
      "[CV] classifier__max_depth=10, classifier__max_leaf_nodes=40, classifier__min_samples_split=2 \n",
      "[CV]  classifier__max_depth=10, classifier__max_leaf_nodes=40, classifier__min_samples_split=2, score=(train=0.787, test=0.787), total=  11.4s\n",
      "[CV] classifier__max_depth=10, classifier__max_leaf_nodes=40, classifier__min_samples_split=5 \n",
      "[CV]  classifier__max_depth=10, classifier__max_leaf_nodes=40, classifier__min_samples_split=5, score=(train=0.783, test=0.776), total=  11.3s\n",
      "[CV] classifier__max_depth=10, classifier__max_leaf_nodes=40, classifier__min_samples_split=5 \n",
      "[CV]  classifier__max_depth=10, classifier__max_leaf_nodes=40, classifier__min_samples_split=5, score=(train=0.783, test=0.785), total=  11.7s\n",
      "[CV] classifier__max_depth=10, classifier__max_leaf_nodes=40, classifier__min_samples_split=5 \n",
      "[CV]  classifier__max_depth=10, classifier__max_leaf_nodes=40, classifier__min_samples_split=5, score=(train=0.782, test=0.779), total=  11.4s\n",
      "[CV] classifier__max_depth=10, classifier__max_leaf_nodes=40, classifier__min_samples_split=5 \n",
      "[CV]  classifier__max_depth=10, classifier__max_leaf_nodes=40, classifier__min_samples_split=5, score=(train=0.786, test=0.787), total=  11.2s\n",
      "[CV] classifier__max_depth=10, classifier__max_leaf_nodes=40, classifier__min_samples_split=5 \n"
     ]
    },
    {
     "name": "stdout",
     "output_type": "stream",
     "text": [
      "[CV]  classifier__max_depth=10, classifier__max_leaf_nodes=40, classifier__min_samples_split=5, score=(train=0.787, test=0.787), total=  12.0s\n",
      "[CV] classifier__max_depth=10, classifier__max_leaf_nodes=40, classifier__min_samples_split=10 \n",
      "[CV]  classifier__max_depth=10, classifier__max_leaf_nodes=40, classifier__min_samples_split=10, score=(train=0.783, test=0.776), total=  11.5s\n",
      "[CV] classifier__max_depth=10, classifier__max_leaf_nodes=40, classifier__min_samples_split=10 \n",
      "[CV]  classifier__max_depth=10, classifier__max_leaf_nodes=40, classifier__min_samples_split=10, score=(train=0.783, test=0.785), total=  11.3s\n",
      "[CV] classifier__max_depth=10, classifier__max_leaf_nodes=40, classifier__min_samples_split=10 \n",
      "[CV]  classifier__max_depth=10, classifier__max_leaf_nodes=40, classifier__min_samples_split=10, score=(train=0.782, test=0.779), total=  11.2s\n",
      "[CV] classifier__max_depth=10, classifier__max_leaf_nodes=40, classifier__min_samples_split=10 \n",
      "[CV]  classifier__max_depth=10, classifier__max_leaf_nodes=40, classifier__min_samples_split=10, score=(train=0.786, test=0.787), total=  11.0s\n",
      "[CV] classifier__max_depth=10, classifier__max_leaf_nodes=40, classifier__min_samples_split=10 \n",
      "[CV]  classifier__max_depth=10, classifier__max_leaf_nodes=40, classifier__min_samples_split=10, score=(train=0.787, test=0.787), total=  11.4s\n",
      "[CV] classifier__max_depth=10, classifier__max_leaf_nodes=40, classifier__min_samples_split=40 \n",
      "[CV]  classifier__max_depth=10, classifier__max_leaf_nodes=40, classifier__min_samples_split=40, score=(train=0.783, test=0.776), total=  11.1s\n",
      "[CV] classifier__max_depth=10, classifier__max_leaf_nodes=40, classifier__min_samples_split=40 \n",
      "[CV]  classifier__max_depth=10, classifier__max_leaf_nodes=40, classifier__min_samples_split=40, score=(train=0.783, test=0.785), total=  11.2s\n",
      "[CV] classifier__max_depth=10, classifier__max_leaf_nodes=40, classifier__min_samples_split=40 \n",
      "[CV]  classifier__max_depth=10, classifier__max_leaf_nodes=40, classifier__min_samples_split=40, score=(train=0.782, test=0.779), total=  11.2s\n",
      "[CV] classifier__max_depth=10, classifier__max_leaf_nodes=40, classifier__min_samples_split=40 \n",
      "[CV]  classifier__max_depth=10, classifier__max_leaf_nodes=40, classifier__min_samples_split=40, score=(train=0.786, test=0.787), total=  10.9s\n",
      "[CV] classifier__max_depth=10, classifier__max_leaf_nodes=40, classifier__min_samples_split=40 \n",
      "[CV]  classifier__max_depth=10, classifier__max_leaf_nodes=40, classifier__min_samples_split=40, score=(train=0.787, test=0.787), total=  11.4s\n",
      "[CV] classifier__max_depth=30, classifier__max_leaf_nodes=3, classifier__min_samples_split=2 \n",
      "[CV]  classifier__max_depth=30, classifier__max_leaf_nodes=3, classifier__min_samples_split=2, score=(train=0.729, test=0.722), total=   6.0s\n",
      "[CV] classifier__max_depth=30, classifier__max_leaf_nodes=3, classifier__min_samples_split=2 \n",
      "[CV]  classifier__max_depth=30, classifier__max_leaf_nodes=3, classifier__min_samples_split=2, score=(train=0.727, test=0.730), total=   6.0s\n",
      "[CV] classifier__max_depth=30, classifier__max_leaf_nodes=3, classifier__min_samples_split=2 \n",
      "[CV]  classifier__max_depth=30, classifier__max_leaf_nodes=3, classifier__min_samples_split=2, score=(train=0.727, test=0.727), total=   6.0s\n",
      "[CV] classifier__max_depth=30, classifier__max_leaf_nodes=3, classifier__min_samples_split=2 \n",
      "[CV]  classifier__max_depth=30, classifier__max_leaf_nodes=3, classifier__min_samples_split=2, score=(train=0.727, test=0.730), total=   6.1s\n",
      "[CV] classifier__max_depth=30, classifier__max_leaf_nodes=3, classifier__min_samples_split=2 \n",
      "[CV]  classifier__max_depth=30, classifier__max_leaf_nodes=3, classifier__min_samples_split=2, score=(train=0.727, test=0.728), total=   6.2s\n",
      "[CV] classifier__max_depth=30, classifier__max_leaf_nodes=3, classifier__min_samples_split=5 \n",
      "[CV]  classifier__max_depth=30, classifier__max_leaf_nodes=3, classifier__min_samples_split=5, score=(train=0.729, test=0.722), total=   6.2s\n",
      "[CV] classifier__max_depth=30, classifier__max_leaf_nodes=3, classifier__min_samples_split=5 \n",
      "[CV]  classifier__max_depth=30, classifier__max_leaf_nodes=3, classifier__min_samples_split=5, score=(train=0.727, test=0.730), total=   6.2s\n",
      "[CV] classifier__max_depth=30, classifier__max_leaf_nodes=3, classifier__min_samples_split=5 \n",
      "[CV]  classifier__max_depth=30, classifier__max_leaf_nodes=3, classifier__min_samples_split=5, score=(train=0.727, test=0.727), total=   5.9s\n",
      "[CV] classifier__max_depth=30, classifier__max_leaf_nodes=3, classifier__min_samples_split=5 \n",
      "[CV]  classifier__max_depth=30, classifier__max_leaf_nodes=3, classifier__min_samples_split=5, score=(train=0.727, test=0.730), total=   5.9s\n",
      "[CV] classifier__max_depth=30, classifier__max_leaf_nodes=3, classifier__min_samples_split=5 \n",
      "[CV]  classifier__max_depth=30, classifier__max_leaf_nodes=3, classifier__min_samples_split=5, score=(train=0.727, test=0.728), total=   6.0s\n",
      "[CV] classifier__max_depth=30, classifier__max_leaf_nodes=3, classifier__min_samples_split=10 \n",
      "[CV]  classifier__max_depth=30, classifier__max_leaf_nodes=3, classifier__min_samples_split=10, score=(train=0.729, test=0.722), total=   6.0s\n",
      "[CV] classifier__max_depth=30, classifier__max_leaf_nodes=3, classifier__min_samples_split=10 \n",
      "[CV]  classifier__max_depth=30, classifier__max_leaf_nodes=3, classifier__min_samples_split=10, score=(train=0.727, test=0.730), total=   5.9s\n",
      "[CV] classifier__max_depth=30, classifier__max_leaf_nodes=3, classifier__min_samples_split=10 \n",
      "[CV]  classifier__max_depth=30, classifier__max_leaf_nodes=3, classifier__min_samples_split=10, score=(train=0.727, test=0.727), total=   5.9s\n",
      "[CV] classifier__max_depth=30, classifier__max_leaf_nodes=3, classifier__min_samples_split=10 \n",
      "[CV]  classifier__max_depth=30, classifier__max_leaf_nodes=3, classifier__min_samples_split=10, score=(train=0.727, test=0.730), total=   5.9s\n",
      "[CV] classifier__max_depth=30, classifier__max_leaf_nodes=3, classifier__min_samples_split=10 \n",
      "[CV]  classifier__max_depth=30, classifier__max_leaf_nodes=3, classifier__min_samples_split=10, score=(train=0.727, test=0.728), total=   5.9s\n",
      "[CV] classifier__max_depth=30, classifier__max_leaf_nodes=3, classifier__min_samples_split=40 \n",
      "[CV]  classifier__max_depth=30, classifier__max_leaf_nodes=3, classifier__min_samples_split=40, score=(train=0.729, test=0.722), total=   5.9s\n",
      "[CV] classifier__max_depth=30, classifier__max_leaf_nodes=3, classifier__min_samples_split=40 \n",
      "[CV]  classifier__max_depth=30, classifier__max_leaf_nodes=3, classifier__min_samples_split=40, score=(train=0.727, test=0.730), total=   5.9s\n",
      "[CV] classifier__max_depth=30, classifier__max_leaf_nodes=3, classifier__min_samples_split=40 \n",
      "[CV]  classifier__max_depth=30, classifier__max_leaf_nodes=3, classifier__min_samples_split=40, score=(train=0.727, test=0.727), total=   5.9s\n",
      "[CV] classifier__max_depth=30, classifier__max_leaf_nodes=3, classifier__min_samples_split=40 \n",
      "[CV]  classifier__max_depth=30, classifier__max_leaf_nodes=3, classifier__min_samples_split=40, score=(train=0.727, test=0.730), total=   5.9s\n",
      "[CV] classifier__max_depth=30, classifier__max_leaf_nodes=3, classifier__min_samples_split=40 \n",
      "[CV]  classifier__max_depth=30, classifier__max_leaf_nodes=3, classifier__min_samples_split=40, score=(train=0.727, test=0.728), total=   6.0s\n",
      "[CV] classifier__max_depth=30, classifier__max_leaf_nodes=10, classifier__min_samples_split=2 \n",
      "[CV]  classifier__max_depth=30, classifier__max_leaf_nodes=10, classifier__min_samples_split=2, score=(train=0.759, test=0.755), total=   9.2s\n",
      "[CV] classifier__max_depth=30, classifier__max_leaf_nodes=10, classifier__min_samples_split=2 \n",
      "[CV]  classifier__max_depth=30, classifier__max_leaf_nodes=10, classifier__min_samples_split=2, score=(train=0.758, test=0.759), total=   9.2s\n",
      "[CV] classifier__max_depth=30, classifier__max_leaf_nodes=10, classifier__min_samples_split=2 \n",
      "[CV]  classifier__max_depth=30, classifier__max_leaf_nodes=10, classifier__min_samples_split=2, score=(train=0.758, test=0.757), total=   8.6s\n",
      "[CV] classifier__max_depth=30, classifier__max_leaf_nodes=10, classifier__min_samples_split=2 \n",
      "[CV]  classifier__max_depth=30, classifier__max_leaf_nodes=10, classifier__min_samples_split=2, score=(train=0.757, test=0.760), total=   8.6s\n",
      "[CV] classifier__max_depth=30, classifier__max_leaf_nodes=10, classifier__min_samples_split=2 \n"
     ]
    },
    {
     "name": "stdout",
     "output_type": "stream",
     "text": [
      "[CV]  classifier__max_depth=30, classifier__max_leaf_nodes=10, classifier__min_samples_split=2, score=(train=0.758, test=0.758), total=   8.9s\n",
      "[CV] classifier__max_depth=30, classifier__max_leaf_nodes=10, classifier__min_samples_split=5 \n",
      "[CV]  classifier__max_depth=30, classifier__max_leaf_nodes=10, classifier__min_samples_split=5, score=(train=0.759, test=0.755), total=   9.3s\n",
      "[CV] classifier__max_depth=30, classifier__max_leaf_nodes=10, classifier__min_samples_split=5 \n",
      "[CV]  classifier__max_depth=30, classifier__max_leaf_nodes=10, classifier__min_samples_split=5, score=(train=0.758, test=0.759), total=   9.2s\n",
      "[CV] classifier__max_depth=30, classifier__max_leaf_nodes=10, classifier__min_samples_split=5 \n",
      "[CV]  classifier__max_depth=30, classifier__max_leaf_nodes=10, classifier__min_samples_split=5, score=(train=0.758, test=0.757), total=   8.5s\n",
      "[CV] classifier__max_depth=30, classifier__max_leaf_nodes=10, classifier__min_samples_split=5 \n",
      "[CV]  classifier__max_depth=30, classifier__max_leaf_nodes=10, classifier__min_samples_split=5, score=(train=0.757, test=0.760), total=   8.9s\n",
      "[CV] classifier__max_depth=30, classifier__max_leaf_nodes=10, classifier__min_samples_split=5 \n",
      "[CV]  classifier__max_depth=30, classifier__max_leaf_nodes=10, classifier__min_samples_split=5, score=(train=0.758, test=0.758), total=   8.8s\n",
      "[CV] classifier__max_depth=30, classifier__max_leaf_nodes=10, classifier__min_samples_split=10 \n",
      "[CV]  classifier__max_depth=30, classifier__max_leaf_nodes=10, classifier__min_samples_split=10, score=(train=0.759, test=0.755), total=   9.3s\n",
      "[CV] classifier__max_depth=30, classifier__max_leaf_nodes=10, classifier__min_samples_split=10 \n",
      "[CV]  classifier__max_depth=30, classifier__max_leaf_nodes=10, classifier__min_samples_split=10, score=(train=0.758, test=0.759), total=   9.1s\n",
      "[CV] classifier__max_depth=30, classifier__max_leaf_nodes=10, classifier__min_samples_split=10 \n",
      "[CV]  classifier__max_depth=30, classifier__max_leaf_nodes=10, classifier__min_samples_split=10, score=(train=0.758, test=0.757), total=   8.7s\n",
      "[CV] classifier__max_depth=30, classifier__max_leaf_nodes=10, classifier__min_samples_split=10 \n",
      "[CV]  classifier__max_depth=30, classifier__max_leaf_nodes=10, classifier__min_samples_split=10, score=(train=0.757, test=0.760), total=   9.5s\n",
      "[CV] classifier__max_depth=30, classifier__max_leaf_nodes=10, classifier__min_samples_split=10 \n",
      "[CV]  classifier__max_depth=30, classifier__max_leaf_nodes=10, classifier__min_samples_split=10, score=(train=0.758, test=0.758), total=   9.4s\n",
      "[CV] classifier__max_depth=30, classifier__max_leaf_nodes=10, classifier__min_samples_split=40 \n",
      "[CV]  classifier__max_depth=30, classifier__max_leaf_nodes=10, classifier__min_samples_split=40, score=(train=0.759, test=0.755), total=   9.4s\n",
      "[CV] classifier__max_depth=30, classifier__max_leaf_nodes=10, classifier__min_samples_split=40 \n",
      "[CV]  classifier__max_depth=30, classifier__max_leaf_nodes=10, classifier__min_samples_split=40, score=(train=0.758, test=0.759), total=   9.7s\n",
      "[CV] classifier__max_depth=30, classifier__max_leaf_nodes=10, classifier__min_samples_split=40 \n",
      "[CV]  classifier__max_depth=30, classifier__max_leaf_nodes=10, classifier__min_samples_split=40, score=(train=0.758, test=0.757), total=   8.7s\n",
      "[CV] classifier__max_depth=30, classifier__max_leaf_nodes=10, classifier__min_samples_split=40 \n",
      "[CV]  classifier__max_depth=30, classifier__max_leaf_nodes=10, classifier__min_samples_split=40, score=(train=0.757, test=0.760), total=   8.9s\n",
      "[CV] classifier__max_depth=30, classifier__max_leaf_nodes=10, classifier__min_samples_split=40 \n",
      "[CV]  classifier__max_depth=30, classifier__max_leaf_nodes=10, classifier__min_samples_split=40, score=(train=0.758, test=0.758), total=   9.1s\n",
      "[CV] classifier__max_depth=30, classifier__max_leaf_nodes=30, classifier__min_samples_split=2 \n",
      "[CV]  classifier__max_depth=30, classifier__max_leaf_nodes=30, classifier__min_samples_split=2, score=(train=0.776, test=0.771), total=  11.5s\n",
      "[CV] classifier__max_depth=30, classifier__max_leaf_nodes=30, classifier__min_samples_split=2 \n",
      "[CV]  classifier__max_depth=30, classifier__max_leaf_nodes=30, classifier__min_samples_split=2, score=(train=0.779, test=0.781), total=  11.5s\n",
      "[CV] classifier__max_depth=30, classifier__max_leaf_nodes=30, classifier__min_samples_split=2 \n",
      "[CV]  classifier__max_depth=30, classifier__max_leaf_nodes=30, classifier__min_samples_split=2, score=(train=0.776, test=0.774), total=  11.6s\n",
      "[CV] classifier__max_depth=30, classifier__max_leaf_nodes=30, classifier__min_samples_split=2 \n",
      "[CV]  classifier__max_depth=30, classifier__max_leaf_nodes=30, classifier__min_samples_split=2, score=(train=0.776, test=0.777), total=  11.1s\n",
      "[CV] classifier__max_depth=30, classifier__max_leaf_nodes=30, classifier__min_samples_split=2 \n",
      "[CV]  classifier__max_depth=30, classifier__max_leaf_nodes=30, classifier__min_samples_split=2, score=(train=0.780, test=0.780), total=  11.6s\n",
      "[CV] classifier__max_depth=30, classifier__max_leaf_nodes=30, classifier__min_samples_split=5 \n",
      "[CV]  classifier__max_depth=30, classifier__max_leaf_nodes=30, classifier__min_samples_split=5, score=(train=0.776, test=0.771), total=  12.2s\n",
      "[CV] classifier__max_depth=30, classifier__max_leaf_nodes=30, classifier__min_samples_split=5 \n",
      "[CV]  classifier__max_depth=30, classifier__max_leaf_nodes=30, classifier__min_samples_split=5, score=(train=0.779, test=0.781), total=  11.4s\n",
      "[CV] classifier__max_depth=30, classifier__max_leaf_nodes=30, classifier__min_samples_split=5 \n",
      "[CV]  classifier__max_depth=30, classifier__max_leaf_nodes=30, classifier__min_samples_split=5, score=(train=0.776, test=0.774), total=  11.4s\n",
      "[CV] classifier__max_depth=30, classifier__max_leaf_nodes=30, classifier__min_samples_split=5 \n",
      "[CV]  classifier__max_depth=30, classifier__max_leaf_nodes=30, classifier__min_samples_split=5, score=(train=0.776, test=0.777), total=  11.2s\n",
      "[CV] classifier__max_depth=30, classifier__max_leaf_nodes=30, classifier__min_samples_split=5 \n",
      "[CV]  classifier__max_depth=30, classifier__max_leaf_nodes=30, classifier__min_samples_split=5, score=(train=0.780, test=0.780), total=  11.3s\n",
      "[CV] classifier__max_depth=30, classifier__max_leaf_nodes=30, classifier__min_samples_split=10 \n",
      "[CV]  classifier__max_depth=30, classifier__max_leaf_nodes=30, classifier__min_samples_split=10, score=(train=0.776, test=0.771), total=  11.3s\n",
      "[CV] classifier__max_depth=30, classifier__max_leaf_nodes=30, classifier__min_samples_split=10 \n",
      "[CV]  classifier__max_depth=30, classifier__max_leaf_nodes=30, classifier__min_samples_split=10, score=(train=0.779, test=0.781), total=  10.8s\n",
      "[CV] classifier__max_depth=30, classifier__max_leaf_nodes=30, classifier__min_samples_split=10 \n",
      "[CV]  classifier__max_depth=30, classifier__max_leaf_nodes=30, classifier__min_samples_split=10, score=(train=0.776, test=0.774), total=  11.2s\n",
      "[CV] classifier__max_depth=30, classifier__max_leaf_nodes=30, classifier__min_samples_split=10 \n",
      "[CV]  classifier__max_depth=30, classifier__max_leaf_nodes=30, classifier__min_samples_split=10, score=(train=0.776, test=0.777), total=  10.8s\n",
      "[CV] classifier__max_depth=30, classifier__max_leaf_nodes=30, classifier__min_samples_split=10 \n",
      "[CV]  classifier__max_depth=30, classifier__max_leaf_nodes=30, classifier__min_samples_split=10, score=(train=0.780, test=0.780), total=  11.2s\n",
      "[CV] classifier__max_depth=30, classifier__max_leaf_nodes=30, classifier__min_samples_split=40 \n",
      "[CV]  classifier__max_depth=30, classifier__max_leaf_nodes=30, classifier__min_samples_split=40, score=(train=0.776, test=0.771), total=  11.3s\n",
      "[CV] classifier__max_depth=30, classifier__max_leaf_nodes=30, classifier__min_samples_split=40 \n",
      "[CV]  classifier__max_depth=30, classifier__max_leaf_nodes=30, classifier__min_samples_split=40, score=(train=0.779, test=0.781), total=  10.7s\n",
      "[CV] classifier__max_depth=30, classifier__max_leaf_nodes=30, classifier__min_samples_split=40 \n",
      "[CV]  classifier__max_depth=30, classifier__max_leaf_nodes=30, classifier__min_samples_split=40, score=(train=0.776, test=0.774), total=  11.2s\n",
      "[CV] classifier__max_depth=30, classifier__max_leaf_nodes=30, classifier__min_samples_split=40 \n",
      "[CV]  classifier__max_depth=30, classifier__max_leaf_nodes=30, classifier__min_samples_split=40, score=(train=0.776, test=0.777), total=  10.7s\n",
      "[CV] classifier__max_depth=30, classifier__max_leaf_nodes=30, classifier__min_samples_split=40 \n"
     ]
    },
    {
     "name": "stdout",
     "output_type": "stream",
     "text": [
      "[CV]  classifier__max_depth=30, classifier__max_leaf_nodes=30, classifier__min_samples_split=40, score=(train=0.780, test=0.780), total=  11.2s\n",
      "[CV] classifier__max_depth=30, classifier__max_leaf_nodes=40, classifier__min_samples_split=2 \n",
      "[CV]  classifier__max_depth=30, classifier__max_leaf_nodes=40, classifier__min_samples_split=2, score=(train=0.783, test=0.776), total=  11.8s\n",
      "[CV] classifier__max_depth=30, classifier__max_leaf_nodes=40, classifier__min_samples_split=2 \n",
      "[CV]  classifier__max_depth=30, classifier__max_leaf_nodes=40, classifier__min_samples_split=2, score=(train=0.782, test=0.784), total=  11.2s\n",
      "[CV] classifier__max_depth=30, classifier__max_leaf_nodes=40, classifier__min_samples_split=2 \n",
      "[CV]  classifier__max_depth=30, classifier__max_leaf_nodes=40, classifier__min_samples_split=2, score=(train=0.783, test=0.779), total=  11.4s\n",
      "[CV] classifier__max_depth=30, classifier__max_leaf_nodes=40, classifier__min_samples_split=2 \n",
      "[CV]  classifier__max_depth=30, classifier__max_leaf_nodes=40, classifier__min_samples_split=2, score=(train=0.785, test=0.786), total=  11.1s\n",
      "[CV] classifier__max_depth=30, classifier__max_leaf_nodes=40, classifier__min_samples_split=2 \n",
      "[CV]  classifier__max_depth=30, classifier__max_leaf_nodes=40, classifier__min_samples_split=2, score=(train=0.787, test=0.787), total=  11.7s\n",
      "[CV] classifier__max_depth=30, classifier__max_leaf_nodes=40, classifier__min_samples_split=5 \n",
      "[CV]  classifier__max_depth=30, classifier__max_leaf_nodes=40, classifier__min_samples_split=5, score=(train=0.783, test=0.776), total=  11.7s\n",
      "[CV] classifier__max_depth=30, classifier__max_leaf_nodes=40, classifier__min_samples_split=5 \n",
      "[CV]  classifier__max_depth=30, classifier__max_leaf_nodes=40, classifier__min_samples_split=5, score=(train=0.782, test=0.784), total=  11.3s\n",
      "[CV] classifier__max_depth=30, classifier__max_leaf_nodes=40, classifier__min_samples_split=5 \n",
      "[CV]  classifier__max_depth=30, classifier__max_leaf_nodes=40, classifier__min_samples_split=5, score=(train=0.783, test=0.779), total=  11.4s\n",
      "[CV] classifier__max_depth=30, classifier__max_leaf_nodes=40, classifier__min_samples_split=5 \n",
      "[CV]  classifier__max_depth=30, classifier__max_leaf_nodes=40, classifier__min_samples_split=5, score=(train=0.785, test=0.786), total=  11.2s\n",
      "[CV] classifier__max_depth=30, classifier__max_leaf_nodes=40, classifier__min_samples_split=5 \n",
      "[CV]  classifier__max_depth=30, classifier__max_leaf_nodes=40, classifier__min_samples_split=5, score=(train=0.787, test=0.787), total=  11.8s\n",
      "[CV] classifier__max_depth=30, classifier__max_leaf_nodes=40, classifier__min_samples_split=10 \n",
      "[CV]  classifier__max_depth=30, classifier__max_leaf_nodes=40, classifier__min_samples_split=10, score=(train=0.783, test=0.776), total=  13.2s\n",
      "[CV] classifier__max_depth=30, classifier__max_leaf_nodes=40, classifier__min_samples_split=10 \n",
      "[CV]  classifier__max_depth=30, classifier__max_leaf_nodes=40, classifier__min_samples_split=10, score=(train=0.782, test=0.784), total=  10.8s\n",
      "[CV] classifier__max_depth=30, classifier__max_leaf_nodes=40, classifier__min_samples_split=10 \n",
      "[CV]  classifier__max_depth=30, classifier__max_leaf_nodes=40, classifier__min_samples_split=10, score=(train=0.783, test=0.779), total=  10.9s\n",
      "[CV] classifier__max_depth=30, classifier__max_leaf_nodes=40, classifier__min_samples_split=10 \n",
      "[CV]  classifier__max_depth=30, classifier__max_leaf_nodes=40, classifier__min_samples_split=10, score=(train=0.785, test=0.786), total=  10.6s\n",
      "[CV] classifier__max_depth=30, classifier__max_leaf_nodes=40, classifier__min_samples_split=10 \n",
      "[CV]  classifier__max_depth=30, classifier__max_leaf_nodes=40, classifier__min_samples_split=10, score=(train=0.787, test=0.787), total=  11.1s\n",
      "[CV] classifier__max_depth=30, classifier__max_leaf_nodes=40, classifier__min_samples_split=40 \n",
      "[CV]  classifier__max_depth=30, classifier__max_leaf_nodes=40, classifier__min_samples_split=40, score=(train=0.783, test=0.776), total=  11.2s\n",
      "[CV] classifier__max_depth=30, classifier__max_leaf_nodes=40, classifier__min_samples_split=40 \n",
      "[CV]  classifier__max_depth=30, classifier__max_leaf_nodes=40, classifier__min_samples_split=40, score=(train=0.782, test=0.784), total=  10.7s\n",
      "[CV] classifier__max_depth=30, classifier__max_leaf_nodes=40, classifier__min_samples_split=40 \n",
      "[CV]  classifier__max_depth=30, classifier__max_leaf_nodes=40, classifier__min_samples_split=40, score=(train=0.783, test=0.779), total=  10.9s\n",
      "[CV] classifier__max_depth=30, classifier__max_leaf_nodes=40, classifier__min_samples_split=40 \n",
      "[CV]  classifier__max_depth=30, classifier__max_leaf_nodes=40, classifier__min_samples_split=40, score=(train=0.785, test=0.786), total=  10.9s\n",
      "[CV] classifier__max_depth=30, classifier__max_leaf_nodes=40, classifier__min_samples_split=40 \n",
      "[CV]  classifier__max_depth=30, classifier__max_leaf_nodes=40, classifier__min_samples_split=40, score=(train=0.787, test=0.787), total=  11.1s\n"
     ]
    },
    {
     "name": "stderr",
     "output_type": "stream",
     "text": [
      "[Parallel(n_jobs=1)]: Done 240 out of 240 | elapsed: 45.4min finished\n"
     ]
    },
    {
     "data": {
      "text/plain": [
       "0.783386931476835"
      ]
     },
     "execution_count": 35,
     "metadata": {},
     "output_type": "execute_result"
    }
   ],
   "source": [
    "from sklearn.tree import DecisionTreeClassifier\n",
    "\n",
    "pipe_5 = Pipeline([('preprocessing', preprocess_pipeline), \n",
    "                   ('classifier', DecisionTreeClassifier())])\n",
    "\n",
    "param_grid_5 = {\n",
    "            'classifier__max_depth': [5,10,30],\n",
    "            'classifier__min_samples_split': [2,5,10,40],\n",
    "            'classifier__max_leaf_nodes': [3,10,30,40]\n",
    "}\n",
    "\n",
    "\n",
    "grid_5 = GridSearchCV(pipe_5, param_grid_5, cv=kfold, return_train_score=True, verbose=10)\n",
    "\n",
    "grid_5.fit(X_train_over, y_train_over)\n",
    "grid_5.best_params_\n",
    "metrics.accuracy_score(y_test_over, grid_5.best_estimator_.predict(X_test_over))"
   ]
  },
  {
   "cell_type": "code",
   "execution_count": 38,
   "metadata": {
    "scrolled": true
   },
   "outputs": [
    {
     "name": "stdout",
     "output_type": "stream",
     "text": [
      "Fitting 5 folds for each of 12 candidates, totalling 60 fits\n",
      "[CV] classifier__max_depth=10, classifier__max_leaf_nodes=10, classifier__n_estimators=10 \n"
     ]
    },
    {
     "name": "stderr",
     "output_type": "stream",
     "text": [
      "[Parallel(n_jobs=1)]: Using backend SequentialBackend with 1 concurrent workers.\n"
     ]
    },
    {
     "name": "stdout",
     "output_type": "stream",
     "text": [
      "[CV]  classifier__max_depth=10, classifier__max_leaf_nodes=10, classifier__n_estimators=10, score=(train=0.704, test=0.703), total=   5.0s\n",
      "[CV] classifier__max_depth=10, classifier__max_leaf_nodes=10, classifier__n_estimators=10 \n"
     ]
    },
    {
     "name": "stderr",
     "output_type": "stream",
     "text": [
      "[Parallel(n_jobs=1)]: Done   1 out of   1 | elapsed:    7.6s remaining:    0.0s\n"
     ]
    },
    {
     "name": "stdout",
     "output_type": "stream",
     "text": [
      "[CV]  classifier__max_depth=10, classifier__max_leaf_nodes=10, classifier__n_estimators=10, score=(train=0.723, test=0.723), total=   4.8s\n",
      "[CV] classifier__max_depth=10, classifier__max_leaf_nodes=10, classifier__n_estimators=10 \n"
     ]
    },
    {
     "name": "stderr",
     "output_type": "stream",
     "text": [
      "[Parallel(n_jobs=1)]: Done   2 out of   2 | elapsed:   14.9s remaining:    0.0s\n"
     ]
    },
    {
     "name": "stdout",
     "output_type": "stream",
     "text": [
      "[CV]  classifier__max_depth=10, classifier__max_leaf_nodes=10, classifier__n_estimators=10, score=(train=0.746, test=0.744), total=   4.8s\n",
      "[CV] classifier__max_depth=10, classifier__max_leaf_nodes=10, classifier__n_estimators=10 \n"
     ]
    },
    {
     "name": "stderr",
     "output_type": "stream",
     "text": [
      "[Parallel(n_jobs=1)]: Done   3 out of   3 | elapsed:   22.2s remaining:    0.0s\n"
     ]
    },
    {
     "name": "stdout",
     "output_type": "stream",
     "text": [
      "[CV]  classifier__max_depth=10, classifier__max_leaf_nodes=10, classifier__n_estimators=10, score=(train=0.743, test=0.748), total=   4.9s\n",
      "[CV] classifier__max_depth=10, classifier__max_leaf_nodes=10, classifier__n_estimators=10 \n"
     ]
    },
    {
     "name": "stderr",
     "output_type": "stream",
     "text": [
      "[Parallel(n_jobs=1)]: Done   4 out of   4 | elapsed:   29.6s remaining:    0.0s\n"
     ]
    },
    {
     "name": "stdout",
     "output_type": "stream",
     "text": [
      "[CV]  classifier__max_depth=10, classifier__max_leaf_nodes=10, classifier__n_estimators=10, score=(train=0.714, test=0.718), total=   5.2s\n",
      "[CV] classifier__max_depth=10, classifier__max_leaf_nodes=10, classifier__n_estimators=50 \n"
     ]
    },
    {
     "name": "stderr",
     "output_type": "stream",
     "text": [
      "[Parallel(n_jobs=1)]: Done   5 out of   5 | elapsed:   37.4s remaining:    0.0s\n"
     ]
    },
    {
     "name": "stdout",
     "output_type": "stream",
     "text": [
      "[CV]  classifier__max_depth=10, classifier__max_leaf_nodes=10, classifier__n_estimators=50, score=(train=0.728, test=0.726), total=  12.5s\n",
      "[CV] classifier__max_depth=10, classifier__max_leaf_nodes=10, classifier__n_estimators=50 \n"
     ]
    },
    {
     "name": "stderr",
     "output_type": "stream",
     "text": [
      "[Parallel(n_jobs=1)]: Done   6 out of   6 | elapsed:   53.1s remaining:    0.0s\n"
     ]
    },
    {
     "name": "stdout",
     "output_type": "stream",
     "text": [
      "[CV]  classifier__max_depth=10, classifier__max_leaf_nodes=10, classifier__n_estimators=50, score=(train=0.729, test=0.729), total=  11.9s\n",
      "[CV] classifier__max_depth=10, classifier__max_leaf_nodes=10, classifier__n_estimators=50 \n"
     ]
    },
    {
     "name": "stderr",
     "output_type": "stream",
     "text": [
      "[Parallel(n_jobs=1)]: Done   7 out of   7 | elapsed:  1.1min remaining:    0.0s\n"
     ]
    },
    {
     "name": "stdout",
     "output_type": "stream",
     "text": [
      "[CV]  classifier__max_depth=10, classifier__max_leaf_nodes=10, classifier__n_estimators=50, score=(train=0.730, test=0.728), total=  11.3s\n",
      "[CV] classifier__max_depth=10, classifier__max_leaf_nodes=10, classifier__n_estimators=50 \n"
     ]
    },
    {
     "name": "stderr",
     "output_type": "stream",
     "text": [
      "[Parallel(n_jobs=1)]: Done   8 out of   8 | elapsed:  1.4min remaining:    0.0s\n"
     ]
    },
    {
     "name": "stdout",
     "output_type": "stream",
     "text": [
      "[CV]  classifier__max_depth=10, classifier__max_leaf_nodes=10, classifier__n_estimators=50, score=(train=0.726, test=0.727), total=  12.0s\n",
      "[CV] classifier__max_depth=10, classifier__max_leaf_nodes=10, classifier__n_estimators=50 \n"
     ]
    },
    {
     "name": "stderr",
     "output_type": "stream",
     "text": [
      "[Parallel(n_jobs=1)]: Done   9 out of   9 | elapsed:  1.6min remaining:    0.0s\n"
     ]
    },
    {
     "name": "stdout",
     "output_type": "stream",
     "text": [
      "[CV]  classifier__max_depth=10, classifier__max_leaf_nodes=10, classifier__n_estimators=50, score=(train=0.720, test=0.721), total=  11.2s\n",
      "[CV] classifier__max_depth=10, classifier__max_leaf_nodes=10, classifier__n_estimators=100 \n",
      "[CV]  classifier__max_depth=10, classifier__max_leaf_nodes=10, classifier__n_estimators=100, score=(train=0.721, test=0.720), total=  20.4s\n",
      "[CV] classifier__max_depth=10, classifier__max_leaf_nodes=10, classifier__n_estimators=100 \n",
      "[CV]  classifier__max_depth=10, classifier__max_leaf_nodes=10, classifier__n_estimators=100, score=(train=0.728, test=0.728), total=  19.8s\n",
      "[CV] classifier__max_depth=10, classifier__max_leaf_nodes=10, classifier__n_estimators=100 \n",
      "[CV]  classifier__max_depth=10, classifier__max_leaf_nodes=10, classifier__n_estimators=100, score=(train=0.725, test=0.722), total=  18.6s\n",
      "[CV] classifier__max_depth=10, classifier__max_leaf_nodes=10, classifier__n_estimators=100 \n",
      "[CV]  classifier__max_depth=10, classifier__max_leaf_nodes=10, classifier__n_estimators=100, score=(train=0.726, test=0.727), total=  18.7s\n",
      "[CV] classifier__max_depth=10, classifier__max_leaf_nodes=10, classifier__n_estimators=100 \n",
      "[CV]  classifier__max_depth=10, classifier__max_leaf_nodes=10, classifier__n_estimators=100, score=(train=0.729, test=0.729), total=  19.0s\n",
      "[CV] classifier__max_depth=10, classifier__max_leaf_nodes=20, classifier__n_estimators=10 \n",
      "[CV]  classifier__max_depth=10, classifier__max_leaf_nodes=20, classifier__n_estimators=10, score=(train=0.743, test=0.740), total=   5.1s\n",
      "[CV] classifier__max_depth=10, classifier__max_leaf_nodes=20, classifier__n_estimators=10 \n",
      "[CV]  classifier__max_depth=10, classifier__max_leaf_nodes=20, classifier__n_estimators=10, score=(train=0.740, test=0.742), total=   5.6s\n",
      "[CV] classifier__max_depth=10, classifier__max_leaf_nodes=20, classifier__n_estimators=10 \n",
      "[CV]  classifier__max_depth=10, classifier__max_leaf_nodes=20, classifier__n_estimators=10, score=(train=0.747, test=0.746), total=   5.4s\n",
      "[CV] classifier__max_depth=10, classifier__max_leaf_nodes=20, classifier__n_estimators=10 \n",
      "[CV]  classifier__max_depth=10, classifier__max_leaf_nodes=20, classifier__n_estimators=10, score=(train=0.729, test=0.731), total=   5.2s\n",
      "[CV] classifier__max_depth=10, classifier__max_leaf_nodes=20, classifier__n_estimators=10 \n",
      "[CV]  classifier__max_depth=10, classifier__max_leaf_nodes=20, classifier__n_estimators=10, score=(train=0.745, test=0.743), total=   5.2s\n",
      "[CV] classifier__max_depth=10, classifier__max_leaf_nodes=20, classifier__n_estimators=50 \n",
      "[CV]  classifier__max_depth=10, classifier__max_leaf_nodes=20, classifier__n_estimators=50, score=(train=0.734, test=0.732), total=  13.7s\n",
      "[CV] classifier__max_depth=10, classifier__max_leaf_nodes=20, classifier__n_estimators=50 \n",
      "[CV]  classifier__max_depth=10, classifier__max_leaf_nodes=20, classifier__n_estimators=50, score=(train=0.740, test=0.740), total=  12.5s\n",
      "[CV] classifier__max_depth=10, classifier__max_leaf_nodes=20, classifier__n_estimators=50 \n",
      "[CV]  classifier__max_depth=10, classifier__max_leaf_nodes=20, classifier__n_estimators=50, score=(train=0.744, test=0.742), total=  12.9s\n",
      "[CV] classifier__max_depth=10, classifier__max_leaf_nodes=20, classifier__n_estimators=50 \n",
      "[CV]  classifier__max_depth=10, classifier__max_leaf_nodes=20, classifier__n_estimators=50, score=(train=0.740, test=0.740), total=  12.5s\n",
      "[CV] classifier__max_depth=10, classifier__max_leaf_nodes=20, classifier__n_estimators=50 \n",
      "[CV]  classifier__max_depth=10, classifier__max_leaf_nodes=20, classifier__n_estimators=50, score=(train=0.754, test=0.751), total=  12.6s\n",
      "[CV] classifier__max_depth=10, classifier__max_leaf_nodes=20, classifier__n_estimators=100 \n",
      "[CV]  classifier__max_depth=10, classifier__max_leaf_nodes=20, classifier__n_estimators=100, score=(train=0.746, test=0.741), total=  22.1s\n",
      "[CV] classifier__max_depth=10, classifier__max_leaf_nodes=20, classifier__n_estimators=100 \n",
      "[CV]  classifier__max_depth=10, classifier__max_leaf_nodes=20, classifier__n_estimators=100, score=(train=0.740, test=0.740), total=  22.9s\n",
      "[CV] classifier__max_depth=10, classifier__max_leaf_nodes=20, classifier__n_estimators=100 \n",
      "[CV]  classifier__max_depth=10, classifier__max_leaf_nodes=20, classifier__n_estimators=100, score=(train=0.739, test=0.738), total=  22.6s\n",
      "[CV] classifier__max_depth=10, classifier__max_leaf_nodes=20, classifier__n_estimators=100 \n",
      "[CV]  classifier__max_depth=10, classifier__max_leaf_nodes=20, classifier__n_estimators=100, score=(train=0.734, test=0.734), total=  21.5s\n",
      "[CV] classifier__max_depth=10, classifier__max_leaf_nodes=20, classifier__n_estimators=100 \n",
      "[CV]  classifier__max_depth=10, classifier__max_leaf_nodes=20, classifier__n_estimators=100, score=(train=0.732, test=0.731), total=  21.8s\n",
      "[CV] classifier__max_depth=20, classifier__max_leaf_nodes=10, classifier__n_estimators=10 \n",
      "[CV]  classifier__max_depth=20, classifier__max_leaf_nodes=10, classifier__n_estimators=10, score=(train=0.737, test=0.737), total=   5.4s\n",
      "[CV] classifier__max_depth=20, classifier__max_leaf_nodes=10, classifier__n_estimators=10 \n",
      "[CV]  classifier__max_depth=20, classifier__max_leaf_nodes=10, classifier__n_estimators=10, score=(train=0.746, test=0.748), total=   5.0s\n",
      "[CV] classifier__max_depth=20, classifier__max_leaf_nodes=10, classifier__n_estimators=10 \n",
      "[CV]  classifier__max_depth=20, classifier__max_leaf_nodes=10, classifier__n_estimators=10, score=(train=0.712, test=0.708), total=   5.0s\n",
      "[CV] classifier__max_depth=20, classifier__max_leaf_nodes=10, classifier__n_estimators=10 \n",
      "[CV]  classifier__max_depth=20, classifier__max_leaf_nodes=10, classifier__n_estimators=10, score=(train=0.711, test=0.711), total=   5.3s\n",
      "[CV] classifier__max_depth=20, classifier__max_leaf_nodes=10, classifier__n_estimators=10 \n",
      "[CV]  classifier__max_depth=20, classifier__max_leaf_nodes=10, classifier__n_estimators=10, score=(train=0.725, test=0.724), total=   5.0s\n",
      "[CV] classifier__max_depth=20, classifier__max_leaf_nodes=10, classifier__n_estimators=50 \n",
      "[CV]  classifier__max_depth=20, classifier__max_leaf_nodes=10, classifier__n_estimators=50, score=(train=0.740, test=0.737), total=  11.1s\n",
      "[CV] classifier__max_depth=20, classifier__max_leaf_nodes=10, classifier__n_estimators=50 \n",
      "[CV]  classifier__max_depth=20, classifier__max_leaf_nodes=10, classifier__n_estimators=50, score=(train=0.731, test=0.731), total=  11.3s\n",
      "[CV] classifier__max_depth=20, classifier__max_leaf_nodes=10, classifier__n_estimators=50 \n",
      "[CV]  classifier__max_depth=20, classifier__max_leaf_nodes=10, classifier__n_estimators=50, score=(train=0.723, test=0.721), total=  12.0s\n",
      "[CV] classifier__max_depth=20, classifier__max_leaf_nodes=10, classifier__n_estimators=50 \n",
      "[CV]  classifier__max_depth=20, classifier__max_leaf_nodes=10, classifier__n_estimators=50, score=(train=0.721, test=0.724), total=  12.0s\n",
      "[CV] classifier__max_depth=20, classifier__max_leaf_nodes=10, classifier__n_estimators=50 \n",
      "[CV]  classifier__max_depth=20, classifier__max_leaf_nodes=10, classifier__n_estimators=50, score=(train=0.725, test=0.725), total=  11.9s\n",
      "[CV] classifier__max_depth=20, classifier__max_leaf_nodes=10, classifier__n_estimators=100 \n",
      "[CV]  classifier__max_depth=20, classifier__max_leaf_nodes=10, classifier__n_estimators=100, score=(train=0.722, test=0.721), total=  19.0s\n",
      "[CV] classifier__max_depth=20, classifier__max_leaf_nodes=10, classifier__n_estimators=100 \n",
      "[CV]  classifier__max_depth=20, classifier__max_leaf_nodes=10, classifier__n_estimators=100, score=(train=0.724, test=0.724), total=  19.4s\n",
      "[CV] classifier__max_depth=20, classifier__max_leaf_nodes=10, classifier__n_estimators=100 \n",
      "[CV]  classifier__max_depth=20, classifier__max_leaf_nodes=10, classifier__n_estimators=100, score=(train=0.720, test=0.718), total=  19.2s\n",
      "[CV] classifier__max_depth=20, classifier__max_leaf_nodes=10, classifier__n_estimators=100 \n",
      "[CV]  classifier__max_depth=20, classifier__max_leaf_nodes=10, classifier__n_estimators=100, score=(train=0.725, test=0.726), total=  18.9s\n",
      "[CV] classifier__max_depth=20, classifier__max_leaf_nodes=10, classifier__n_estimators=100 \n",
      "[CV]  classifier__max_depth=20, classifier__max_leaf_nodes=10, classifier__n_estimators=100, score=(train=0.728, test=0.728), total=  18.8s\n",
      "[CV] classifier__max_depth=20, classifier__max_leaf_nodes=20, classifier__n_estimators=10 \n"
     ]
    },
    {
     "name": "stdout",
     "output_type": "stream",
     "text": [
      "[CV]  classifier__max_depth=20, classifier__max_leaf_nodes=20, classifier__n_estimators=10, score=(train=0.758, test=0.754), total=   5.5s\n",
      "[CV] classifier__max_depth=20, classifier__max_leaf_nodes=20, classifier__n_estimators=10 \n",
      "[CV]  classifier__max_depth=20, classifier__max_leaf_nodes=20, classifier__n_estimators=10, score=(train=0.733, test=0.733), total=   5.6s\n",
      "[CV] classifier__max_depth=20, classifier__max_leaf_nodes=20, classifier__n_estimators=10 \n",
      "[CV]  classifier__max_depth=20, classifier__max_leaf_nodes=20, classifier__n_estimators=10, score=(train=0.734, test=0.731), total=   5.3s\n",
      "[CV] classifier__max_depth=20, classifier__max_leaf_nodes=20, classifier__n_estimators=10 \n",
      "[CV]  classifier__max_depth=20, classifier__max_leaf_nodes=20, classifier__n_estimators=10, score=(train=0.729, test=0.728), total=   5.4s\n",
      "[CV] classifier__max_depth=20, classifier__max_leaf_nodes=20, classifier__n_estimators=10 \n",
      "[CV]  classifier__max_depth=20, classifier__max_leaf_nodes=20, classifier__n_estimators=10, score=(train=0.756, test=0.758), total=   5.4s\n",
      "[CV] classifier__max_depth=20, classifier__max_leaf_nodes=20, classifier__n_estimators=50 \n",
      "[CV]  classifier__max_depth=20, classifier__max_leaf_nodes=20, classifier__n_estimators=50, score=(train=0.751, test=0.746), total=  12.9s\n",
      "[CV] classifier__max_depth=20, classifier__max_leaf_nodes=20, classifier__n_estimators=50 \n",
      "[CV]  classifier__max_depth=20, classifier__max_leaf_nodes=20, classifier__n_estimators=50, score=(train=0.741, test=0.742), total=  13.0s\n",
      "[CV] classifier__max_depth=20, classifier__max_leaf_nodes=20, classifier__n_estimators=50 \n",
      "[CV]  classifier__max_depth=20, classifier__max_leaf_nodes=20, classifier__n_estimators=50, score=(train=0.739, test=0.739), total=  12.6s\n",
      "[CV] classifier__max_depth=20, classifier__max_leaf_nodes=20, classifier__n_estimators=50 \n",
      "[CV]  classifier__max_depth=20, classifier__max_leaf_nodes=20, classifier__n_estimators=50, score=(train=0.726, test=0.728), total=  12.4s\n",
      "[CV] classifier__max_depth=20, classifier__max_leaf_nodes=20, classifier__n_estimators=50 \n",
      "[CV]  classifier__max_depth=20, classifier__max_leaf_nodes=20, classifier__n_estimators=50, score=(train=0.750, test=0.750), total=  12.6s\n",
      "[CV] classifier__max_depth=20, classifier__max_leaf_nodes=20, classifier__n_estimators=100 \n",
      "[CV]  classifier__max_depth=20, classifier__max_leaf_nodes=20, classifier__n_estimators=100, score=(train=0.747, test=0.743), total=  22.0s\n",
      "[CV] classifier__max_depth=20, classifier__max_leaf_nodes=20, classifier__n_estimators=100 \n",
      "[CV]  classifier__max_depth=20, classifier__max_leaf_nodes=20, classifier__n_estimators=100, score=(train=0.743, test=0.744), total=  21.8s\n",
      "[CV] classifier__max_depth=20, classifier__max_leaf_nodes=20, classifier__n_estimators=100 \n",
      "[CV]  classifier__max_depth=20, classifier__max_leaf_nodes=20, classifier__n_estimators=100, score=(train=0.741, test=0.738), total=  23.1s\n",
      "[CV] classifier__max_depth=20, classifier__max_leaf_nodes=20, classifier__n_estimators=100 \n",
      "[CV]  classifier__max_depth=20, classifier__max_leaf_nodes=20, classifier__n_estimators=100, score=(train=0.749, test=0.752), total=  22.2s\n",
      "[CV] classifier__max_depth=20, classifier__max_leaf_nodes=20, classifier__n_estimators=100 \n",
      "[CV]  classifier__max_depth=20, classifier__max_leaf_nodes=20, classifier__n_estimators=100, score=(train=0.759, test=0.758), total=  22.4s\n"
     ]
    },
    {
     "name": "stderr",
     "output_type": "stream",
     "text": [
      "[Parallel(n_jobs=1)]: Done  60 out of  60 | elapsed: 15.9min finished\n"
     ]
    },
    {
     "data": {
      "text/plain": [
       "0.7608403717708591"
      ]
     },
     "execution_count": 38,
     "metadata": {},
     "output_type": "execute_result"
    }
   ],
   "source": [
    "from sklearn.ensemble import RandomForestClassifier\n",
    "\n",
    "pipe_7 = Pipeline([('preprocessing', preprocess_pipeline), \n",
    "                   ('classifier', RandomForestClassifier())\n",
    "                  ])\n",
    "\n",
    "param_grid_7 = {'classifier__n_estimators': [10, 50, 100],\n",
    "              'classifier__max_leaf_nodes': [10, 20],\n",
    "              'classifier__max_depth': [10, 20]\n",
    "             }\n",
    "\n",
    "grid_7 = GridSearchCV(pipe_7, param_grid_7, cv=kfold, return_train_score=True, verbose=10)\n",
    "\n",
    "grid_7.fit(X_train_over, y_train_over)\n",
    "grid_7.best_params_\n",
    "metrics.accuracy_score(y_test_over, grid_7.best_estimator_.predict(X_test_over))"
   ]
  },
  {
   "cell_type": "code",
   "execution_count": 49,
   "metadata": {},
   "outputs": [
    {
     "data": {
      "text/plain": [
       "VotingClassifier(estimators=[('grid_3',\n",
       "                              Pipeline(steps=[('preprocessing',\n",
       "                                               FeatureUnion(transformer_list=[('num_pipeline',\n",
       "                                                                               Pipeline(steps=[('select_numeric',\n",
       "                                                                                                DataFrameSelector(attribute_names=['Monthly_Income',\n",
       "                                                                                                                                   'Loan_Tenure_Applied',\n",
       "                                                                                                                                   'Loan_Tenure_Applied',\n",
       "                                                                                                                                   'Existing_EMI',\n",
       "                                                                                                                                   'Var5',\n",
       "                                                                                                                                   'Loan_Amount_Submitted',\n",
       "                                                                                                                                   'Loan_Tenure_Submitted',\n",
       "                                                                                                                                   'Interest_Rate',\n",
       "                                                                                                                                   'Interest_Rate'...\n",
       "                                                                                                OneHotEncoder(handle_unknown='ignore',\n",
       "                                                                                                              sparse=False))])),\n",
       "                                                                              ('hash_pipeline',\n",
       "                                                                               Pipeline(steps=[('select_cat',\n",
       "                                                                                                DataFrameSelector(attribute_names=['Employer_Name'])),\n",
       "                                                                                               ('imputer',\n",
       "                                                                                                MostFrequentImputer()),\n",
       "                                                                                               ('feature_hasher',\n",
       "                                                                                                <__main__.HashCategorical object at 0x7f984cab8f10>)]))])),\n",
       "                                              ('classifier',\n",
       "                                               RandomForestClassifier(max_depth=20,\n",
       "                                                                      max_leaf_nodes=20))]))],\n",
       "                 voting='soft')"
      ]
     },
     "execution_count": 49,
     "metadata": {},
     "output_type": "execute_result"
    }
   ],
   "source": [
    "from sklearn.ensemble import VotingClassifier\n",
    "\n",
    "voting_clf = VotingClassifier(\n",
    "    estimators=[ \n",
    "                ('grid_3', grid_3.best_estimator_),\n",
    "                ('grid_5', grid_5.best_estimator_),        \n",
    "                ('grid_7', grid_7.best_estimator_)  \n",
    "               ],\n",
    "    voting='soft')\n",
    "voting_clf.fit(X_train_over, y_train_over)"
   ]
  },
  {
   "cell_type": "code",
   "execution_count": 53,
   "metadata": {},
   "outputs": [],
   "source": [
    "# Wyniki na samplowanym datasecie\n",
    "models = []\n",
    "models.append(('SVM linear', grid_1.best_estimator_))\n",
    "models.append(('LR', grid_3.best_estimator_))\n",
    "models.append(('DecisionTreeClassifier', grid_5.best_estimator_))\n",
    "models.append(('RandomForestClassifier', grid_7.best_estimator_))\n",
    "models.append(('Voting',  voting_clf))\n",
    "\n",
    "\n",
    "precision_score = []\n",
    "recall_score = []\n",
    "f1_score = []\n",
    "accuracy_score = []\n",
    "roc_auc_score = []\n",
    "precision_score_over = []\n",
    "recall_score_over = []\n",
    "f1_score_over = []\n",
    "accuracy_score_over = []\n",
    "roc_auc_score_over = []\n",
    "for name, model in models:\n",
    "    precision_score.append(metrics.precision_score(y_test , model.predict(X_test)))\n",
    "    precision_score_over.append(metrics.precision_score(y_test_over , model.predict(X_test_over)))\n",
    "    recall_score.append(metrics.recall_score(y_test , model.predict(X_test)))\n",
    "    recall_score_over.append(metrics.recall_score(y_test_over, model.predict(X_test_over)))\n",
    "    f1_score.append( metrics.f1_score(y_test , model.predict(X_test)))\n",
    "    f1_score_over.append( metrics.f1_score(y_test_over, model.predict(X_test_over)))\n",
    "    accuracy_score.append(metrics.accuracy_score(y_test_over, model.predict(X_test_over)))\n",
    "    accuracy_score_over.append(metrics.accuracy_score(y_test , model.predict(X_test)))\n",
    "    if (name == 'SVM linear'):\n",
    "        roc_auc_score.append(metrics.roc_auc_score(y_test , model.decision_function(X_test)))\n",
    "        roc_auc_score_over.append(metrics.roc_auc_score(y_test_over, model.decision_function(X_test_over)))        \n",
    "    else:\n",
    "        roc_auc_score.append(metrics.roc_auc_score(y_test , model.predict_proba(X_test)[:,1]))\n",
    "        roc_auc_score_over.append(metrics.roc_auc_score(y_test_over, model.predict_proba(X_test_over)[:,1]))\n"
   ]
  },
  {
   "cell_type": "code",
   "execution_count": 54,
   "metadata": {},
   "outputs": [
    {
     "data": {
      "text/html": [
       "<div>\n",
       "<style scoped>\n",
       "    .dataframe tbody tr th:only-of-type {\n",
       "        vertical-align: middle;\n",
       "    }\n",
       "\n",
       "    .dataframe tbody tr th {\n",
       "        vertical-align: top;\n",
       "    }\n",
       "\n",
       "    .dataframe thead th {\n",
       "        text-align: right;\n",
       "    }\n",
       "</style>\n",
       "<table border=\"1\" class=\"dataframe\">\n",
       "  <thead>\n",
       "    <tr style=\"text-align: right;\">\n",
       "      <th></th>\n",
       "      <th>Method</th>\n",
       "      <th>precision_score</th>\n",
       "      <th>recall_score</th>\n",
       "      <th>f1_score</th>\n",
       "      <th>accuracy_score</th>\n",
       "      <th>roc_auc_score</th>\n",
       "      <th>precision_score_over</th>\n",
       "      <th>recall_score_over</th>\n",
       "      <th>f1_score_over</th>\n",
       "      <th>accuracy_score_over</th>\n",
       "      <th>roc_auc_score_over</th>\n",
       "    </tr>\n",
       "  </thead>\n",
       "  <tbody>\n",
       "    <tr>\n",
       "      <th>0</th>\n",
       "      <td>SVM linear</td>\n",
       "      <td>0.034388</td>\n",
       "      <td>0.116279</td>\n",
       "      <td>0.053079</td>\n",
       "      <td>0.544687</td>\n",
       "      <td>0.617538</td>\n",
       "      <td>0.744156</td>\n",
       "      <td>0.142254</td>\n",
       "      <td>0.238849</td>\n",
       "      <td>0.937877</td>\n",
       "      <td>0.631983</td>\n",
       "    </tr>\n",
       "    <tr>\n",
       "      <th>1</th>\n",
       "      <td>LR</td>\n",
       "      <td>0.022790</td>\n",
       "      <td>0.572093</td>\n",
       "      <td>0.043835</td>\n",
       "      <td>0.615825</td>\n",
       "      <td>0.623801</td>\n",
       "      <td>0.621106</td>\n",
       "      <td>0.602618</td>\n",
       "      <td>0.611722</td>\n",
       "      <td>0.626284</td>\n",
       "      <td>0.651187</td>\n",
       "    </tr>\n",
       "    <tr>\n",
       "      <th>2</th>\n",
       "      <td>DecisionTreeClassifier</td>\n",
       "      <td>0.040359</td>\n",
       "      <td>0.879070</td>\n",
       "      <td>0.077174</td>\n",
       "      <td>0.783387</td>\n",
       "      <td>0.839193</td>\n",
       "      <td>0.736287</td>\n",
       "      <td>0.886000</td>\n",
       "      <td>0.804235</td>\n",
       "      <td>0.685204</td>\n",
       "      <td>0.847507</td>\n",
       "    </tr>\n",
       "    <tr>\n",
       "      <th>3</th>\n",
       "      <td>RandomForestClassifier</td>\n",
       "      <td>0.037228</td>\n",
       "      <td>0.823256</td>\n",
       "      <td>0.071235</td>\n",
       "      <td>0.760840</td>\n",
       "      <td>0.826628</td>\n",
       "      <td>0.724106</td>\n",
       "      <td>0.846170</td>\n",
       "      <td>0.780394</td>\n",
       "      <td>0.678553</td>\n",
       "      <td>0.830234</td>\n",
       "    </tr>\n",
       "    <tr>\n",
       "      <th>4</th>\n",
       "      <td>Voting</td>\n",
       "      <td>0.042087</td>\n",
       "      <td>0.862791</td>\n",
       "      <td>0.080260</td>\n",
       "      <td>0.784465</td>\n",
       "      <td>0.837900</td>\n",
       "      <td>0.744654</td>\n",
       "      <td>0.868689</td>\n",
       "      <td>0.801903</td>\n",
       "      <td>0.703904</td>\n",
       "      <td>0.847085</td>\n",
       "    </tr>\n",
       "  </tbody>\n",
       "</table>\n",
       "</div>"
      ],
      "text/plain": [
       "                   Method  precision_score  recall_score  f1_score  \\\n",
       "0              SVM linear         0.034388      0.116279  0.053079   \n",
       "1                      LR         0.022790      0.572093  0.043835   \n",
       "2  DecisionTreeClassifier         0.040359      0.879070  0.077174   \n",
       "3  RandomForestClassifier         0.037228      0.823256  0.071235   \n",
       "4                  Voting         0.042087      0.862791  0.080260   \n",
       "\n",
       "   accuracy_score  roc_auc_score  precision_score_over  recall_score_over  \\\n",
       "0        0.544687       0.617538              0.744156           0.142254   \n",
       "1        0.615825       0.623801              0.621106           0.602618   \n",
       "2        0.783387       0.839193              0.736287           0.886000   \n",
       "3        0.760840       0.826628              0.724106           0.846170   \n",
       "4        0.784465       0.837900              0.744654           0.868689   \n",
       "\n",
       "   f1_score_over  accuracy_score_over  roc_auc_score_over  \n",
       "0       0.238849             0.937877            0.631983  \n",
       "1       0.611722             0.626284            0.651187  \n",
       "2       0.804235             0.685204            0.847507  \n",
       "3       0.780394             0.678553            0.830234  \n",
       "4       0.801903             0.703904            0.847085  "
      ]
     },
     "execution_count": 54,
     "metadata": {},
     "output_type": "execute_result"
    }
   ],
   "source": [
    "d = {'precision_score': precision_score, \n",
    "     'recall_score': recall_score, \n",
    "     'f1_score': f1_score,\n",
    "     'accuracy_score' : accuracy_score,\n",
    "     'roc_auc_score' : roc_auc_score,\n",
    "     'precision_score_over': precision_score_over, \n",
    "     'recall_score_over': recall_score_over, \n",
    "     'f1_score_over': f1_score_over,\n",
    "     'accuracy_score_over' : accuracy_score_over,\n",
    "     'roc_auc_score_over' : roc_auc_score_over\n",
    "    }\n",
    "df = pd.DataFrame(data=d)\n",
    "df.insert(loc=0, column='Method', value=[\n",
    "    'SVM linear',\n",
    "    'LR',\n",
    "    'DecisionTreeClassifier',\n",
    "    'RandomForestClassifier',\n",
    "    'Voting'\n",
    "])\n",
    "df"
   ]
  },
  {
   "cell_type": "code",
   "execution_count": 56,
   "metadata": {},
   "outputs": [
    {
     "data": {
      "image/png": "[encoded data removed]",
      "text/plain": [
       "<Figure size 576x432 with 1 Axes>"
      ]
     },
     "metadata": {
      "needs_background": "light"
     },
     "output_type": "display_data"
    }
   ],
   "source": [
    "from sklearn.metrics import roc_curve\n",
    "\n",
    "def plot_roc_curve(fpr, tpr, label=None):\n",
    "    plt.plot(fpr, tpr, linewidth=2, label=label)\n",
    "    plt.plot([0, 1], [0, 1], 'k--')\n",
    "    plt.axis([0, 1, 0, 1])\n",
    "    plt.xlabel('False Positive Rate', fontsize=16)\n",
    "    plt.ylabel('True Positive Rate', fontsize=16)\n",
    "\n",
    "plt.figure(figsize=(8, 6))\n",
    "for name, model in models:\n",
    "    if (name == 'SVM linear'):\n",
    "        y_scores = model.decision_function(X_test)\n",
    "    else: \n",
    "        y_scores = model.predict_proba(X_test)[:,1]        \n",
    "    fpr, tpr, thresholds = roc_curve(y_test, y_scores)\n",
    "    plot_roc_curve(fpr, tpr, name)\n",
    "\n",
    "plt.legend(loc=\"lower right\", fontsize=16)\n",
    "plt.show()\n",
    "    "
   ]
  }
 ],
 "metadata": {
  "kernelspec": {
   "display_name": "Python 3",
   "language": "python",
   "name": "python3"
  },
  "language_info": {
   "codemirror_mode": {
    "name": "ipython",
    "version": 3
   },
   "file_extension": ".py",
   "mimetype": "text/x-python",
   "name": "python",
   "nbconvert_exporter": "python",
   "pygments_lexer": "ipython3",
   "version": "3.7.8"
  }
 },
 "nbformat": 4,
 "nbformat_minor": 4
}
